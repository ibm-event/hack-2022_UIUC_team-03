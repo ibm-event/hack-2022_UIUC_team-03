{
 "cells": [
  {
   "cell_type": "code",
   "execution_count": 1,
   "id": "1a69351f-6a68-49b5-bb27-63a84c2940a4",
   "metadata": {},
   "outputs": [],
   "source": [
    "from qiskit import QuantumCircuit, QuantumRegister, ClassicalRegister, execute, Aer\n",
    "from qiskit.compiler import transpile, assemble\n",
    "from qiskit.tools.jupyter import *\n",
    "from qiskit.visualization import *\n",
    "from math import pi, sqrt\n",
    "import numpy as np\n",
    "import copy as cp\n",
    "import scipy as sp\n",
    "import math"
   ]
  },
  {
   "cell_type": "code",
   "execution_count": 2,
   "id": "d479e385-e0ea-495e-9dda-62d65e207969",
   "metadata": {},
   "outputs": [
    {
     "data": {
      "text/plain": [
       "array([[-4.01208161e-01,  8.94336812e-01, -7.14829457e-01,\n",
       "        -1.95929807e+00],\n",
       "       [-5.09156545e-01, -1.08282932e-01, -7.14829457e-01,\n",
       "        -1.95929807e+00],\n",
       "       [-6.17104930e-01,  2.92764965e-01, -7.45135963e-01,\n",
       "        -1.95929807e+00],\n",
       "       [-6.71079122e-01,  9.22410165e-02, -6.84522950e-01,\n",
       "        -1.95929807e+00],\n",
       "       [-4.55182353e-01,  1.09486076e+00, -7.14829457e-01,\n",
       "        -1.95929807e+00],\n",
       "       [-2.39285585e-01,  1.69643261e+00, -6.23909938e-01,\n",
       "        -1.56691528e+00],\n",
       "       [-6.71079122e-01,  6.93812863e-01, -7.14829457e-01,\n",
       "        -1.76310667e+00],\n",
       "       [-4.55182353e-01,  6.93812863e-01, -6.84522950e-01,\n",
       "        -1.95929807e+00],\n",
       "       [-7.79027506e-01, -3.08806881e-01, -7.14829457e-01,\n",
       "        -1.95929807e+00],\n",
       "       [-5.09156545e-01,  9.22410165e-02, -6.84522950e-01,\n",
       "        -2.15548946e+00],\n",
       "       [-2.39285585e-01,  1.29538471e+00, -6.84522950e-01,\n",
       "        -1.95929807e+00],\n",
       "       [-5.63130738e-01,  6.93812863e-01, -6.54216444e-01,\n",
       "        -1.95929807e+00],\n",
       "       [-5.63130738e-01, -1.08282932e-01, -7.14829457e-01,\n",
       "        -2.15548946e+00],\n",
       "       [-8.33001698e-01, -1.08282932e-01, -8.05748975e-01,\n",
       "        -2.15548946e+00],\n",
       "       [-2.33888166e-02,  1.89695656e+00, -7.75442469e-01,\n",
       "        -1.95929807e+00],\n",
       "       [-7.73630087e-02,  2.69905235e+00, -6.84522950e-01,\n",
       "        -1.56691528e+00],\n",
       "       [-2.39285585e-01,  1.69643261e+00, -7.45135963e-01,\n",
       "        -1.56691528e+00],\n",
       "       [-4.01208161e-01,  8.94336812e-01, -7.14829457e-01,\n",
       "        -1.76310667e+00],\n",
       "       [-7.73630087e-02,  1.49590866e+00, -6.23909938e-01,\n",
       "        -1.76310667e+00],\n",
       "       [-4.01208161e-01,  1.49590866e+00, -6.84522950e-01,\n",
       "        -1.76310667e+00],\n",
       "       [-2.39285585e-01,  6.93812863e-01, -6.23909938e-01,\n",
       "        -1.95929807e+00],\n",
       "       [-4.01208161e-01,  1.29538471e+00, -6.84522950e-01,\n",
       "        -1.56691528e+00],\n",
       "       [-6.71079122e-01,  1.09486076e+00, -8.36055481e-01,\n",
       "        -1.95929807e+00],\n",
       "       [-4.01208161e-01,  4.93288914e-01, -6.23909938e-01,\n",
       "        -1.37072388e+00],\n",
       "       [-5.63130738e-01,  6.93812863e-01, -5.63296926e-01,\n",
       "        -1.95929807e+00],\n",
       "       [-4.55182353e-01, -1.08282932e-01, -6.54216444e-01,\n",
       "        -1.95929807e+00],\n",
       "       [-4.55182353e-01,  6.93812863e-01, -6.54216444e-01,\n",
       "        -1.56691528e+00],\n",
       "       [-3.47233969e-01,  8.94336812e-01, -6.84522950e-01,\n",
       "        -1.95929807e+00],\n",
       "       [-3.47233969e-01,  6.93812863e-01, -7.14829457e-01,\n",
       "        -1.95929807e+00],\n",
       "       [-6.17104930e-01,  2.92764965e-01, -6.54216444e-01,\n",
       "        -1.95929807e+00],\n",
       "       [-5.63130738e-01,  9.22410165e-02, -6.54216444e-01,\n",
       "        -1.95929807e+00],\n",
       "       [-2.39285585e-01,  6.93812863e-01, -6.84522950e-01,\n",
       "        -1.56691528e+00],\n",
       "       [-3.47233969e-01,  2.09748050e+00, -6.84522950e-01,\n",
       "        -2.15548946e+00],\n",
       "       [-1.85311393e-01,  2.29800445e+00, -7.14829457e-01,\n",
       "        -1.95929807e+00],\n",
       "       [-5.09156545e-01,  9.22410165e-02, -6.84522950e-01,\n",
       "        -2.15548946e+00],\n",
       "       [-4.55182353e-01,  2.92764965e-01, -7.75442469e-01,\n",
       "        -1.95929807e+00],\n",
       "       [-1.85311393e-01,  8.94336812e-01, -7.45135963e-01,\n",
       "        -1.95929807e+00],\n",
       "       [-5.09156545e-01,  9.22410165e-02, -6.84522950e-01,\n",
       "        -2.15548946e+00],\n",
       "       [-7.79027506e-01, -1.08282932e-01, -7.45135963e-01,\n",
       "        -1.95929807e+00],\n",
       "       [-4.01208161e-01,  6.93812863e-01, -6.84522950e-01,\n",
       "        -1.95929807e+00],\n",
       "       [-4.55182353e-01,  8.94336812e-01, -7.45135963e-01,\n",
       "        -1.76310667e+00],\n",
       "       [-7.25053314e-01, -1.51195057e+00, -7.45135963e-01,\n",
       "        -1.76310667e+00],\n",
       "       [-7.79027506e-01,  2.92764965e-01, -7.45135963e-01,\n",
       "        -1.95929807e+00],\n",
       "       [-4.55182353e-01,  8.94336812e-01, -6.54216444e-01,\n",
       "        -1.17453249e+00],\n",
       "       [-4.01208161e-01,  1.49590866e+00, -5.63296926e-01,\n",
       "        -1.56691528e+00],\n",
       "       [-5.63130738e-01, -1.08282932e-01, -7.14829457e-01,\n",
       "        -1.76310667e+00],\n",
       "       [-4.01208161e-01,  1.49590866e+00, -6.54216444e-01,\n",
       "        -1.95929807e+00],\n",
       "       [-6.71079122e-01,  2.92764965e-01, -7.14829457e-01,\n",
       "        -1.95929807e+00],\n",
       "       [-2.93259777e-01,  1.29538471e+00, -6.84522950e-01,\n",
       "        -1.95929807e+00],\n",
       "       [-4.55182353e-01,  4.93288914e-01, -7.14829457e-01,\n",
       "        -1.95929807e+00],\n",
       "       [ 6.24301489e-01,  2.92764965e-01,  2.85285244e-01,\n",
       "         3.94998676e-01],\n",
       "       [ 3.00456336e-01,  2.92764965e-01,  2.24672232e-01,\n",
       "         5.91190072e-01],\n",
       "       [ 5.70327296e-01,  9.22410165e-02,  3.45898256e-01,\n",
       "         5.91190072e-01],\n",
       "       [-1.85311393e-01, -1.51195057e+00,  7.31397013e-02,\n",
       "         1.98807281e-01],\n",
       "       [ 3.54430528e-01, -5.09330830e-01,  2.54978738e-01,\n",
       "         5.91190072e-01],\n",
       "       [-7.73630087e-02, -5.09330830e-01,  2.24672232e-01,\n",
       "         1.98807281e-01],\n",
       "       [ 2.46482144e-01,  4.93288914e-01,  2.85285244e-01,\n",
       "         7.87381467e-01],\n",
       "       [-5.09156545e-01, -1.31142663e+00, -1.39005841e-01,\n",
       "        -3.89766906e-01],\n",
       "       [ 4.08404720e-01, -3.08806881e-01,  2.54978738e-01,\n",
       "         1.98807281e-01],\n",
       "       [-3.47233969e-01, -7.09854779e-01,  4.28331952e-02,\n",
       "         3.94998676e-01],\n",
       "       [-4.55182353e-01, -2.11352242e+00, -7.83928290e-02,\n",
       "        -3.89766906e-01],\n",
       "       [ 3.05853755e-02, -1.08282932e-01,  1.33752713e-01,\n",
       "         5.91190072e-01],\n",
       "       [ 8.45595676e-02, -1.71247452e+00,  7.31397013e-02,\n",
       "        -3.89766906e-01],\n",
       "       [ 1.38533760e-01, -3.08806881e-01,  2.85285244e-01,\n",
       "         3.94998676e-01],\n",
       "       [-1.31337201e-01, -3.08806881e-01, -4.80863230e-02,\n",
       "         1.98807281e-01],\n",
       "       [ 4.62378912e-01,  9.22410165e-02,  1.94365726e-01,\n",
       "         3.94998676e-01],\n",
       "       [-1.31337201e-01, -1.08282932e-01,  2.24672232e-01,\n",
       "         5.91190072e-01],\n",
       "       [-2.33888166e-02, -7.09854779e-01,  1.03446207e-01,\n",
       "        -3.89766906e-01],\n",
       "       [ 1.92507952e-01, -1.71247452e+00,  2.24672232e-01,\n",
       "         5.91190072e-01],\n",
       "       [-1.31337201e-01, -1.11090268e+00,  4.28331952e-02,\n",
       "        -1.93575510e-01],\n",
       "       [ 3.05853755e-02,  2.92764965e-01,  3.15591750e-01,\n",
       "         1.17976426e+00],\n",
       "       [ 1.38533760e-01, -5.09330830e-01,  7.31397013e-02,\n",
       "         1.98807281e-01],\n",
       "       [ 2.46482144e-01, -1.11090268e+00,  3.45898256e-01,\n",
       "         5.91190072e-01],\n",
       "       [ 1.38533760e-01, -5.09330830e-01,  2.85285244e-01,\n",
       "         2.61588527e-03],\n",
       "       [ 3.00456336e-01, -3.08806881e-01,  1.64059220e-01,\n",
       "         1.98807281e-01],\n",
       "       [ 4.08404720e-01, -1.08282932e-01,  1.94365726e-01,\n",
       "         3.94998676e-01],\n",
       "       [ 5.16353104e-01, -5.09330830e-01,  3.15591750e-01,\n",
       "         3.94998676e-01],\n",
       "       [ 4.62378912e-01, -1.08282932e-01,  3.76204762e-01,\n",
       "         9.83572863e-01],\n",
       "       [ 8.45595676e-02, -3.08806881e-01,  2.24672232e-01,\n",
       "         5.91190072e-01],\n",
       "       [-7.73630087e-02, -9.10378728e-01, -7.83928290e-02,\n",
       "        -3.89766906e-01],\n",
       "       [-1.85311393e-01, -1.31142663e+00,  1.25266892e-02,\n",
       "        -1.93575510e-01],\n",
       "       [-1.85311393e-01, -1.31142663e+00, -1.77798169e-02,\n",
       "        -3.89766906e-01],\n",
       "       [-2.33888166e-02, -7.09854779e-01,  4.28331952e-02,\n",
       "         2.61588527e-03],\n",
       "       [ 8.45595676e-02, -7.09854779e-01,  4.06511268e-01,\n",
       "         7.87381467e-01],\n",
       "       [-2.39285585e-01, -1.08282932e-01,  2.24672232e-01,\n",
       "         5.91190072e-01],\n",
       "       [ 8.45595676e-02,  6.93812863e-01,  2.24672232e-01,\n",
       "         7.87381467e-01],\n",
       "       [ 4.62378912e-01,  9.22410165e-02,  2.85285244e-01,\n",
       "         5.91190072e-01],\n",
       "       [ 2.46482144e-01, -1.51195057e+00,  1.94365726e-01,\n",
       "         1.98807281e-01],\n",
       "       [-1.31337201e-01, -1.08282932e-01,  1.03446207e-01,\n",
       "         1.98807281e-01],\n",
       "       [-1.85311393e-01, -1.11090268e+00,  7.31397013e-02,\n",
       "         1.98807281e-01],\n",
       "       [-1.85311393e-01, -9.10378728e-01,  1.94365726e-01,\n",
       "         2.61588527e-03],\n",
       "       [ 1.38533760e-01, -1.08282932e-01,  2.54978738e-01,\n",
       "         3.94998676e-01],\n",
       "       [-2.33888166e-02, -9.10378728e-01,  7.31397013e-02,\n",
       "         2.61588527e-03],\n",
       "       [-4.55182353e-01, -1.51195057e+00, -1.39005841e-01,\n",
       "        -3.89766906e-01],\n",
       "       [-1.31337201e-01, -7.09854779e-01,  1.33752713e-01,\n",
       "         1.98807281e-01],\n",
       "       [-7.73630087e-02, -1.08282932e-01,  1.33752713e-01,\n",
       "         2.61588527e-03],\n",
       "       [-7.73630087e-02, -3.08806881e-01,  1.33752713e-01,\n",
       "         1.98807281e-01],\n",
       "       [ 1.92507952e-01, -3.08806881e-01,  1.64059220e-01,\n",
       "         1.98807281e-01],\n",
       "       [-4.01208161e-01, -1.11090268e+00, -2.29925359e-01,\n",
       "        -1.93575510e-01],\n",
       "       [-7.73630087e-02, -5.09330830e-01,  1.03446207e-01,\n",
       "         1.98807281e-01],\n",
       "       [ 2.46482144e-01,  4.93288914e-01,  6.79269823e-01,\n",
       "         2.55310403e+00],\n",
       "       [-2.33888166e-02, -7.09854779e-01,  4.06511268e-01,\n",
       "         1.37595565e+00],\n",
       "       [ 6.78275681e-01, -1.08282932e-01,  6.48963317e-01,\n",
       "         1.76833844e+00],\n",
       "       [ 2.46482144e-01, -3.08806881e-01,  5.58043798e-01,\n",
       "         1.17976426e+00],\n",
       "       [ 3.54430528e-01, -1.08282932e-01,  6.18656811e-01,\n",
       "         1.96452984e+00],\n",
       "       [ 9.48146641e-01, -1.08282932e-01,  8.61108859e-01,\n",
       "         1.76833844e+00],\n",
       "       [-5.09156545e-01, -1.11090268e+00,  2.24672232e-01,\n",
       "         9.83572863e-01],\n",
       "       [ 7.86224065e-01, -3.08806881e-01,  7.70189341e-01,\n",
       "         1.17976426e+00],\n",
       "       [ 4.62378912e-01, -1.11090268e+00,  6.18656811e-01,\n",
       "         1.17976426e+00],\n",
       "       [ 7.32249873e-01,  1.09486076e+00,  7.09576329e-01,\n",
       "         2.55310403e+00],\n",
       "       [ 3.54430528e-01,  2.92764965e-01,  4.06511268e-01,\n",
       "         1.57214705e+00],\n",
       "       [ 3.00456336e-01, -7.09854779e-01,  4.67124280e-01,\n",
       "         1.37595565e+00],\n",
       "       [ 5.16353104e-01, -1.08282932e-01,  5.27737292e-01,\n",
       "         1.76833844e+00],\n",
       "       [-7.73630087e-02, -1.11090268e+00,  3.76204762e-01,\n",
       "         1.57214705e+00],\n",
       "       [-2.33888166e-02, -5.09330830e-01,  4.06511268e-01,\n",
       "         2.35691263e+00],\n",
       "       [ 3.00456336e-01,  2.92764965e-01,  4.67124280e-01,\n",
       "         2.16072124e+00],\n",
       "       [ 3.54430528e-01, -1.08282932e-01,  5.27737292e-01,\n",
       "         1.17976426e+00],\n",
       "       [ 1.00212083e+00,  1.49590866e+00,  8.91415365e-01,\n",
       "         1.96452984e+00],\n",
       "       [ 1.00212083e+00, -9.10378728e-01,  9.52028377e-01,\n",
       "         2.16072124e+00],\n",
       "       [ 8.45595676e-02, -1.71247452e+00,  3.76204762e-01,\n",
       "         5.91190072e-01],\n",
       "       [ 5.70327296e-01,  2.92764965e-01,  5.88350305e-01,\n",
       "         2.16072124e+00],\n",
       "       [-1.31337201e-01, -5.09330830e-01,  3.45898256e-01,\n",
       "         1.57214705e+00],\n",
       "       [ 1.00212083e+00, -5.09330830e-01,  8.91415365e-01,\n",
       "         1.57214705e+00],\n",
       "       [ 2.46482144e-01, -7.09854779e-01,  3.45898256e-01,\n",
       "         1.17976426e+00],\n",
       "       [ 4.62378912e-01,  4.93288914e-01,  5.88350305e-01,\n",
       "         1.76833844e+00],\n",
       "       [ 7.32249873e-01,  2.92764965e-01,  6.79269823e-01,\n",
       "         1.17976426e+00],\n",
       "       [ 1.92507952e-01, -5.09330830e-01,  3.15591750e-01,\n",
       "         1.17976426e+00],\n",
       "       [ 1.38533760e-01, -1.08282932e-01,  3.45898256e-01,\n",
       "         1.17976426e+00],\n",
       "       [ 3.00456336e-01, -5.09330830e-01,  5.58043798e-01,\n",
       "         1.76833844e+00],\n",
       "       [ 7.32249873e-01, -1.08282932e-01,  6.18656811e-01,\n",
       "         7.87381467e-01],\n",
       "       [ 8.40198257e-01, -5.09330830e-01,  7.09576329e-01,\n",
       "         1.37595565e+00],\n",
       "       [ 1.11006922e+00,  1.49590866e+00,  8.00495847e-01,\n",
       "         1.57214705e+00],\n",
       "       [ 3.00456336e-01, -5.09330830e-01,  5.58043798e-01,\n",
       "         1.96452984e+00],\n",
       "       [ 2.46482144e-01, -5.09330830e-01,  4.06511268e-01,\n",
       "         5.91190072e-01],\n",
       "       [ 1.38533760e-01, -9.10378728e-01,  5.58043798e-01,\n",
       "         3.94998676e-01],\n",
       "       [ 1.00212083e+00, -1.08282932e-01,  7.09576329e-01,\n",
       "         2.16072124e+00],\n",
       "       [ 2.46482144e-01,  6.93812863e-01,  5.58043798e-01,\n",
       "         2.35691263e+00],\n",
       "       [ 3.00456336e-01,  9.22410165e-02,  5.27737292e-01,\n",
       "         1.17976426e+00],\n",
       "       [ 8.45595676e-02, -1.08282932e-01,  3.15591750e-01,\n",
       "         1.17976426e+00],\n",
       "       [ 5.70327296e-01,  9.22410165e-02,  4.97430786e-01,\n",
       "         1.76833844e+00],\n",
       "       [ 4.62378912e-01,  9.22410165e-02,  5.58043798e-01,\n",
       "         2.35691263e+00],\n",
       "       [ 5.70327296e-01,  9.22410165e-02,  4.06511268e-01,\n",
       "         2.16072124e+00],\n",
       "       [-2.33888166e-02, -7.09854779e-01,  4.06511268e-01,\n",
       "         1.37595565e+00],\n",
       "       [ 5.16353104e-01,  2.92764965e-01,  6.48963317e-01,\n",
       "         2.16072124e+00],\n",
       "       [ 4.62378912e-01,  4.93288914e-01,  5.88350305e-01,\n",
       "         2.55310403e+00],\n",
       "       [ 4.62378912e-01, -1.08282932e-01,  4.36817774e-01,\n",
       "         2.16072124e+00],\n",
       "       [ 2.46482144e-01, -1.11090268e+00,  3.76204762e-01,\n",
       "         1.37595565e+00],\n",
       "       [ 3.54430528e-01, -1.08282932e-01,  4.36817774e-01,\n",
       "         1.57214705e+00],\n",
       "       [ 1.92507952e-01,  6.93812863e-01,  4.97430786e-01,\n",
       "         2.16072124e+00],\n",
       "       [ 3.05853755e-02, -1.08282932e-01,  4.06511268e-01,\n",
       "         1.17976426e+00]])"
      ]
     },
     "execution_count": 2,
     "metadata": {},
     "output_type": "execute_result"
    }
   ],
   "source": [
    "dataset = [['1', '5.1', '3.5', '1.4', '0.2', 'Iris-setosa'],\n",
    "['2', '4.9', '3.0', '1.4', '0.2', 'Iris-setosa'],\n",
    "['3', '4.7', '3.2', '1.3', '0.2', 'Iris-setosa'],\n",
    "['4', '4.6', '3.1', '1.5', '0.2', 'Iris-setosa'],\n",
    "['5', '5.0', '3.6', '1.4', '0.2', 'Iris-setosa'],\n",
    "['6', '5.4', '3.9', '1.7', '0.4', 'Iris-setosa'],\n",
    "['7', '4.6', '3.4', '1.4', '0.3', 'Iris-setosa'],\n",
    "['8', '5.0', '3.4', '1.5', '0.2', 'Iris-setosa'],\n",
    "['9', '4.4', '2.9', '1.4', '0.2', 'Iris-setosa'],\n",
    "['10', '4.9', '3.1', '1.5', '0.1', 'Iris-setosa'],\n",
    "['11', '5.4', '3.7', '1.5', '0.2', 'Iris-setosa'],\n",
    "['12', '4.8', '3.4', '1.6', '0.2', 'Iris-setosa'],\n",
    "['13', '4.8', '3.0', '1.4', '0.1', 'Iris-setosa'],\n",
    "['14', '4.3', '3.0', '1.1', '0.1', 'Iris-setosa'],\n",
    "['15', '5.8', '4.0', '1.2', '0.2', 'Iris-setosa'],\n",
    "['16', '5.7', '4.4', '1.5', '0.4', 'Iris-setosa'],\n",
    "['17', '5.4', '3.9', '1.3', '0.4', 'Iris-setosa'],\n",
    "['18', '5.1', '3.5', '1.4', '0.3', 'Iris-setosa'],\n",
    "['19', '5.7', '3.8', '1.7', '0.3', 'Iris-setosa'],\n",
    "['20', '5.1', '3.8', '1.5', '0.3', 'Iris-setosa'],\n",
    "['21', '5.4', '3.4', '1.7', '0.2', 'Iris-setosa'],\n",
    "['22', '5.1', '3.7', '1.5', '0.4', 'Iris-setosa'],\n",
    "['23', '4.6', '3.6', '1.0', '0.2', 'Iris-setosa'],\n",
    "['24', '5.1', '3.3', '1.7', '0.5', 'Iris-setosa'],\n",
    "['25', '4.8', '3.4', '1.9', '0.2', 'Iris-setosa'],\n",
    "['26', '5.0', '3.0', '1.6', '0.2', 'Iris-setosa'],\n",
    "['27', '5.0', '3.4', '1.6', '0.4', 'Iris-setosa'],\n",
    "['28', '5.2', '3.5', '1.5', '0.2', 'Iris-setosa'],\n",
    "['29', '5.2', '3.4', '1.4', '0.2', 'Iris-setosa'],\n",
    "['30', '4.7', '3.2', '1.6', '0.2', 'Iris-setosa'],\n",
    "['31', '4.8', '3.1', '1.6', '0.2', 'Iris-setosa'],\n",
    "['32', '5.4', '3.4', '1.5', '0.4', 'Iris-setosa'],\n",
    "['33', '5.2', '4.1', '1.5', '0.1', 'Iris-setosa'],\n",
    "['34', '5.5', '4.2', '1.4', '0.2', 'Iris-setosa'],\n",
    "['35', '4.9', '3.1', '1.5', '0.1', 'Iris-setosa'],\n",
    "['36', '5.0', '3.2', '1.2', '0.2', 'Iris-setosa'],\n",
    "['37', '5.5', '3.5', '1.3', '0.2', 'Iris-setosa'],\n",
    "['38', '4.9', '3.1', '1.5', '0.1', 'Iris-setosa'],\n",
    "['39', '4.4', '3.0', '1.3', '0.2', 'Iris-setosa'],\n",
    "['40', '5.1', '3.4', '1.5', '0.2', 'Iris-setosa'],\n",
    "['41', '5.0', '3.5', '1.3', '0.3', 'Iris-setosa'],\n",
    "['42', '4.5', '2.3', '1.3', '0.3', 'Iris-setosa'],\n",
    "['43', '4.4', '3.2', '1.3', '0.2', 'Iris-setosa'],\n",
    "['44', '5.0', '3.5', '1.6', '0.6', 'Iris-setosa'],\n",
    "['45', '5.1', '3.8', '1.9', '0.4', 'Iris-setosa'],\n",
    "['46', '4.8', '3.0', '1.4', '0.3', 'Iris-setosa'],\n",
    "['47', '5.1', '3.8', '1.6', '0.2', 'Iris-setosa'],\n",
    "['48', '4.6', '3.2', '1.4', '0.2', 'Iris-setosa'],\n",
    "['49', '5.3', '3.7', '1.5', '0.2', 'Iris-setosa'],\n",
    "['50', '5.0', '3.3', '1.4', '0.2', 'Iris-setosa'],\n",
    "['51', '7.0', '3.2', '4.7', '1.4', 'Iris-versicolor'],\n",
    "['52', '6.4', '3.2', '4.5', '1.5', 'Iris-versicolor'],\n",
    "['53', '6.9', '3.1', '4.9', '1.5', 'Iris-versicolor'],\n",
    "['54', '5.5', '2.3', '4.0', '1.3', 'Iris-versicolor'],\n",
    "['55', '6.5', '2.8', '4.6', '1.5', 'Iris-versicolor'],\n",
    "['56', '5.7', '2.8', '4.5', '1.3', 'Iris-versicolor'],\n",
    "['57', '6.3', '3.3', '4.7', '1.6', 'Iris-versicolor'],\n",
    "['58', '4.9', '2.4', '3.3', '1.0', 'Iris-versicolor'],\n",
    "['59', '6.6', '2.9', '4.6', '1.3', 'Iris-versicolor'],\n",
    "['60', '5.2', '2.7', '3.9', '1.4', 'Iris-versicolor'],\n",
    "['61', '5.0', '2.0', '3.5', '1.0', 'Iris-versicolor'],\n",
    "['62', '5.9', '3.0', '4.2', '1.5', 'Iris-versicolor'],\n",
    "['63', '6.0', '2.2', '4.0', '1.0', 'Iris-versicolor'],\n",
    "['64', '6.1', '2.9', '4.7', '1.4', 'Iris-versicolor'],\n",
    "['65', '5.6', '2.9', '3.6', '1.3', 'Iris-versicolor'],\n",
    "['66', '6.7', '3.1', '4.4', '1.4', 'Iris-versicolor'],\n",
    "['67', '5.6', '3.0', '4.5', '1.5', 'Iris-versicolor'],\n",
    "['68', '5.8', '2.7', '4.1', '1.0', 'Iris-versicolor'],\n",
    "['69', '6.2', '2.2', '4.5', '1.5', 'Iris-versicolor'],\n",
    "['70', '5.6', '2.5', '3.9', '1.1', 'Iris-versicolor'],\n",
    "['71', '5.9', '3.2', '4.8', '1.8', 'Iris-versicolor'],\n",
    "['72', '6.1', '2.8', '4.0', '1.3', 'Iris-versicolor'],\n",
    "['73', '6.3', '2.5', '4.9', '1.5', 'Iris-versicolor'],\n",
    "['74', '6.1', '2.8', '4.7', '1.2', 'Iris-versicolor'],\n",
    "['75', '6.4', '2.9', '4.3', '1.3', 'Iris-versicolor'],\n",
    "['76', '6.6', '3.0', '4.4', '1.4', 'Iris-versicolor'],\n",
    "['77', '6.8', '2.8', '4.8', '1.4', 'Iris-versicolor'],\n",
    "['78', '6.7', '3.0', '5.0', '1.7', 'Iris-versicolor'],\n",
    "['79', '6.0', '2.9', '4.5', '1.5', 'Iris-versicolor'],\n",
    "['80', '5.7', '2.6', '3.5', '1.0', 'Iris-versicolor'],\n",
    "['81', '5.5', '2.4', '3.8', '1.1', 'Iris-versicolor'],\n",
    "['82', '5.5', '2.4', '3.7', '1.0', 'Iris-versicolor'],\n",
    "['83', '5.8', '2.7', '3.9', '1.2', 'Iris-versicolor'],\n",
    "['84', '6.0', '2.7', '5.1', '1.6', 'Iris-versicolor'],\n",
    "['85', '5.4', '3.0', '4.5', '1.5', 'Iris-versicolor'],\n",
    "['86', '6.0', '3.4', '4.5', '1.6', 'Iris-versicolor'],\n",
    "['87', '6.7', '3.1', '4.7', '1.5', 'Iris-versicolor'],\n",
    "['88', '6.3', '2.3', '4.4', '1.3', 'Iris-versicolor'],\n",
    "['89', '5.6', '3.0', '4.1', '1.3', 'Iris-versicolor'],\n",
    "['90', '5.5', '2.5', '4.0', '1.3', 'Iris-versicolor'],\n",
    "['91', '5.5', '2.6', '4.4', '1.2', 'Iris-versicolor'],\n",
    "['92', '6.1', '3.0', '4.6', '1.4', 'Iris-versicolor'],\n",
    "['93', '5.8', '2.6', '4.0', '1.2', 'Iris-versicolor'],\n",
    "['94', '5.0', '2.3', '3.3', '1.0', 'Iris-versicolor'],\n",
    "['95', '5.6', '2.7', '4.2', '1.3', 'Iris-versicolor'],\n",
    "['96', '5.7', '3.0', '4.2', '1.2', 'Iris-versicolor'],\n",
    "['97', '5.7', '2.9', '4.2', '1.3', 'Iris-versicolor'],\n",
    "['98', '6.2', '2.9', '4.3', '1.3', 'Iris-versicolor'],\n",
    "['99', '5.1', '2.5', '3.0', '1.1', 'Iris-versicolor'],\n",
    "['100', '5.7', '2.8', '4.1', '1.3', 'Iris-versicolor'],\n",
    "['101', '6.3', '3.3', '6.0', '2.5', 'Iris-virginica'],\n",
    "['102', '5.8', '2.7', '5.1', '1.9', 'Iris-virginica'],\n",
    "['103', '7.1', '3.0', '5.9', '2.1', 'Iris-virginica'],\n",
    "['104', '6.3', '2.9', '5.6', '1.8', 'Iris-virginica'],\n",
    "['105', '6.5', '3.0', '5.8', '2.2', 'Iris-virginica'],\n",
    "['106', '7.6', '3.0', '6.6', '2.1', 'Iris-virginica'],\n",
    "['107', '4.9', '2.5', '4.5', '1.7', 'Iris-virginica'],\n",
    "['108', '7.3', '2.9', '6.3', '1.8', 'Iris-virginica'],\n",
    "['109', '6.7', '2.5', '5.8', '1.8', 'Iris-virginica'],\n",
    "['110', '7.2', '3.6', '6.1', '2.5', 'Iris-virginica'],\n",
    "['111', '6.5', '3.2', '5.1', '2.0', 'Iris-virginica'],\n",
    "['112', '6.4', '2.7', '5.3', '1.9', 'Iris-virginica'],\n",
    "['113', '6.8', '3.0', '5.5', '2.1', 'Iris-virginica'],\n",
    "['114', '5.7', '2.5', '5.0', '2.0', 'Iris-virginica'],\n",
    "['115', '5.8', '2.8', '5.1', '2.4', 'Iris-virginica'],\n",
    "['116', '6.4', '3.2', '5.3', '2.3', 'Iris-virginica'],\n",
    "['117', '6.5', '3.0', '5.5', '1.8', 'Iris-virginica'],\n",
    "['118', '7.7', '3.8', '6.7', '2.2', 'Iris-virginica'],\n",
    "['119', '7.7', '2.6', '6.9', '2.3', 'Iris-virginica'],\n",
    "['120', '6.0', '2.2', '5.0', '1.5', 'Iris-virginica'],\n",
    "['121', '6.9', '3.2', '5.7', '2.3', 'Iris-virginica'],\n",
    "['122', '5.6', '2.8', '4.9', '2.0', 'Iris-virginica'],\n",
    "['123', '7.7', '2.8', '6.7', '2.0', 'Iris-virginica'],\n",
    "['124', '6.3', '2.7', '4.9', '1.8', 'Iris-virginica'],\n",
    "['125', '6.7', '3.3', '5.7', '2.1', 'Iris-virginica'],\n",
    "['126', '7.2', '3.2', '6.0', '1.8', 'Iris-virginica'],\n",
    "['127', '6.2', '2.8', '4.8', '1.8', 'Iris-virginica'],\n",
    "['128', '6.1', '3.0', '4.9', '1.8', 'Iris-virginica'],\n",
    "['129', '6.4', '2.8', '5.6', '2.1', 'Iris-virginica'],\n",
    "['130', '7.2', '3.0', '5.8', '1.6', 'Iris-virginica'],\n",
    "['131', '7.4', '2.8', '6.1', '1.9', 'Iris-virginica'],\n",
    "['132', '7.9', '3.8', '6.4', '2.0', 'Iris-virginica'],\n",
    "['133', '6.4', '2.8', '5.6', '2.2', 'Iris-virginica'],\n",
    "['134', '6.3', '2.8', '5.1', '1.5', 'Iris-virginica'],\n",
    "['135', '6.1', '2.6', '5.6', '1.4', 'Iris-virginica'],\n",
    "['136', '7.7', '3.0', '6.1', '2.3', 'Iris-virginica'],\n",
    "['137', '6.3', '3.4', '5.6', '2.4', 'Iris-virginica'],\n",
    "['138', '6.4', '3.1', '5.5', '1.8', 'Iris-virginica'],\n",
    "['139', '6.0', '3.0', '4.8', '1.8', 'Iris-virginica'],\n",
    "['140', '6.9', '3.1', '5.4', '2.1', 'Iris-virginica'],\n",
    "['141', '6.7', '3.1', '5.6', '2.4', 'Iris-virginica'],\n",
    "['142', '6.9', '3.1', '5.1', '2.3', 'Iris-virginica'],\n",
    "['143', '5.8', '2.7', '5.1', '1.9', 'Iris-virginica'],\n",
    "['144', '6.8', '3.2', '5.9', '2.3', 'Iris-virginica'],\n",
    "['145', '6.7', '3.3', '5.7', '2.5', 'Iris-virginica'],\n",
    "['146', '6.7', '3.0', '5.2', '2.3', 'Iris-virginica'],\n",
    "['147', '6.3', '2.5', '5.0', '1.9', 'Iris-virginica'],\n",
    "['148', '6.5', '3.0', '5.2', '2.0', 'Iris-virginica'],\n",
    "['149', '6.2', '3.4', '5.4', '2.3', 'Iris-virginica'],\n",
    "['150', '5.9', '3.0', '5.1', '1.8', 'Iris-virginica']]\n",
    "\n",
    "unlabelled_dataset = [np.array([float(data[1]) for data in dataset]), np.array([float(data[2]) for data in dataset]), \n",
    "                      np.array([float(data[3]) for data in dataset]), np.array([float(data[4]) for data in dataset])]\n",
    "\n",
    "means = [sum(unlabelled_dataset[i])/150 for i in range(4)]\n",
    "stdevs = [(sum(unlabelled_dataset[i]**2)/150 - means[i]**2)**(1/2) for i in range(4)]\n",
    "epsilon = 0.01\n",
    "qs = [np.quantile(unlabelled_dataset[i], 1-(epsilon**(1/4))/2) for i in range(4)]\n",
    "\n",
    "def data_to_angle(data_entry, data_type, alpha=0.1): \n",
    "    score = (data_entry - means[data_type]) / stdevs[data_type]\n",
    "    return (1-alpha/2)*(np.pi)*(score/qs[data_type])\n",
    "\n",
    "angles = np.array([[data_to_angle(unlabelled_dataset[data_type][sample], data_type) for data_type in range(4)] for sample in range(150)])\n",
    "\n",
    "real_classes = np.zeros(150, dtype = int)\n",
    "for sample in range(150):\n",
    "    if dataset[sample][5] == 'Iris-versicolor':\n",
    "        real_classes[sample] = 1\n",
    "    if dataset[sample][5] == 'Iris-virginica':\n",
    "        real_classes[sample] = 2\n",
    "\n",
    "angles"
   ]
  },
  {
   "cell_type": "code",
   "execution_count": 3,
   "id": "6d9ce708",
   "metadata": {},
   "outputs": [
    {
     "data": {
      "text/plain": [
       "(array([  0,   1,   3,   4,   5,   6,   7,   9,  11,  15,  17,  18,  19,\n",
       "         20,  22,  23,  25,  27,  28,  29,  30,  31,  33,  34,  38,  40,\n",
       "         41,  42,  44,  45,  50,  51,  53,  54,  55,  56,  59,  60,  61,\n",
       "         62,  64,  65,  69,  70,  73,  74,  75,  79,  81,  82,  84,  86,\n",
       "         87,  89,  92,  93,  95,  97,  98,  99, 101, 102, 103, 104, 105,\n",
       "        109, 110, 112, 113, 114, 115, 117, 120, 121, 124, 125, 126, 127,\n",
       "        129, 130, 134, 135, 136, 137, 138, 140, 142, 146, 147, 149]),\n",
       " array([  2,   8,  10,  12,  13,  14,  16,  21,  24,  26,  32,  35,  36,\n",
       "         37,  39,  43,  46,  47,  48,  49,  52,  57,  58,  63,  66,  67,\n",
       "         68,  71,  72,  76,  77,  78,  80,  83,  85,  88,  90,  91,  94,\n",
       "         96, 100, 106, 107, 108, 111, 116, 118, 119, 122, 123, 128, 131,\n",
       "        132, 133, 139, 141, 143, 144, 145, 148]))"
      ]
     },
     "execution_count": 3,
     "metadata": {},
     "output_type": "execute_result"
    }
   ],
   "source": [
    "np.random.seed(14)\n",
    "\n",
    "num_training_sets = 100\n",
    "individual_training_size = 30\n",
    "training_sets = np.zeros((num_training_sets, individual_training_size*3), dtype = int)\n",
    "for i in range(num_training_sets):\n",
    "    training_sets[i, : individual_training_size] = np.sort(np.random.choice(50, individual_training_size, False))\n",
    "    training_sets[i, individual_training_size : individual_training_size*2] = np.sort(np.random.choice(50, individual_training_size, False)) + 50\n",
    "    training_sets[i, individual_training_size*2 : individual_training_size*3] = np.sort(np.random.choice(50, individual_training_size, False)) + 100\n",
    "    \n",
    "testing_sets = []\n",
    "for training_args in training_sets:\n",
    "    testing_args = [i for i in range(len(dataset)) if i not in training_args]\n",
    "    testing_sets.append(testing_args)\n",
    "testing_sets = np.array(testing_sets)\n",
    "\n",
    "training_args = training_sets[9]\n",
    "testing_args = testing_sets[9]\n",
    "training_args, testing_args"
   ]
  },
  {
   "cell_type": "code",
   "execution_count": 4,
   "id": "a4a3f1ee-7466-4b80-80c1-26a10d486d18",
   "metadata": {},
   "outputs": [],
   "source": [
    "#Basic parameterized single site gate\n",
    "def param_gate(qc, angle, site):\n",
    "    qc.rx(pi/2, site)\n",
    "    qc.rz(angle, site)\n",
    "    qc.rx(pi/2, site)\n",
    "\n",
    "#Quantum circuit from Fig.7, with input features and parameters\n",
    "def iris_circuit(qc, inputs, params):\n",
    "    param_gate(qc, inputs[0], 0)\n",
    "    param_gate(qc, inputs[1], 1)\n",
    "    qc.cz(0, 1)\n",
    "    param_gate(qc, params[0], 0)\n",
    "    param_gate(qc, params[1], 1)\n",
    "    qc.cz(0, 1)   \n",
    "    param_gate(qc, inputs[2], 0)\n",
    "    param_gate(qc, inputs[3], 1)\n",
    "    qc.cz(0, 1)\n",
    "    param_gate(qc, params[2], 0)\n",
    "    param_gate(qc, params[3], 1)\n",
    "    qc.cz(0, 1)\n",
    "    \n",
    "    param_gate(qc, inputs[0], 0)\n",
    "    param_gate(qc, inputs[1], 1)\n",
    "    qc.cz(0, 1)\n",
    "    param_gate(qc, params[4], 0)\n",
    "    param_gate(qc, params[5], 1)\n",
    "    qc.cz(0, 1) \n",
    "    param_gate(qc, inputs[2], 0)\n",
    "    param_gate(qc, inputs[3], 1)\n",
    "    qc.cz(0, 1)\n",
    "    param_gate(qc, params[6], 0)\n",
    "    param_gate(qc, params[7], 1)\n",
    "        \n",
    "#quantum_convolutional_network\n",
    "def qcnn_circuit(qc, inputs, params):\n",
    "    \n",
    "    param_gate(qc, inputs[0], 0)\n",
    "    param_gate(qc, inputs[1], 1)\n",
    "    param_gate(qc, inputs[2], 2)\n",
    "    param_gate(qc, inputs[3], 3)\n",
    "    qc.cz(0, 1)\n",
    "    qc.cz(1, 2)\n",
    "    qc.cz(2, 3)\n",
    "\n",
    "    param_gate(qc, params[0], 0)\n",
    "    param_gate(qc, params[1], 1)\n",
    "    param_gate(qc, params[2], 2)\n",
    "    param_gate(qc, params[3], 3)\n",
    "    qc.cz(0, 1)\n",
    "    qc.cz(1, 2)\n",
    "    qc.cz(2, 3)\n",
    "    \n",
    "    qc1, qc2 = QuantumCircuit(1), QuantumCircuit(1)\n",
    "    param_gate(qc1, params[4], 0)\n",
    "    param_gate(qc2, params[5], 0)\n",
    "    custom1 = qc1.to_gate().control(1)\n",
    "    custom2 = qc2.to_gate().control(1)\n",
    "    \n",
    "    qc.append(custom1, [0, 1])\n",
    "    qc.append(custom2, [3, 2])\n",
    "    qc.cz(1, 2)\n",
    "\n",
    "    param_gate(qc, inputs[0], 1)\n",
    "    param_gate(qc, inputs[1], 2)\n",
    "    qc.cz(1, 2)\n",
    "\n",
    "    param_gate(qc, params[6], 1)\n",
    "    param_gate(qc, params[7], 2)\n",
    "    qc.cz(1, 2)\n",
    "\n",
    "    param_gate(qc, inputs[2], 1)\n",
    "    param_gate(qc, inputs[3], 2)\n",
    "    qc.cz(1, 2)\n",
    "\n",
    "    param_gate(qc, params[8], 1)\n",
    "    param_gate(qc, params[9], 2)\n",
    "\n",
    "\n",
    "def iris_circuit_extension(qc, inputs, params):\n",
    "    param_gate(qc, inputs[0], 0)\n",
    "    param_gate(qc, inputs[1], 1)\n",
    "    qc.cz(0, 1)\n",
    "    param_gate(qc, params[0], 0)\n",
    "    param_gate(qc, params[1], 1)\n",
    "    qc.cz(0, 1)   \n",
    "    param_gate(qc, inputs[2], 0)\n",
    "    param_gate(qc, inputs[3], 1)\n",
    "    qc.cz(0, 1)\n",
    "    param_gate(qc, params[2], 0)\n",
    "    param_gate(qc, params[3], 1)\n",
    "    qc.cz(0, 1)\n",
    "    \n",
    "    param_gate(qc, inputs[0], 0)\n",
    "    param_gate(qc, inputs[1], 1)\n",
    "    qc.cz(0, 1)\n",
    "    param_gate(qc, params[4], 0)\n",
    "    param_gate(qc, params[5], 1)\n",
    "    qc.cz(0, 1) \n",
    "    param_gate(qc, inputs[2], 0)\n",
    "    param_gate(qc, inputs[3], 1)\n",
    "    qc.cz(0, 1)\n",
    "    param_gate(qc, params[6], 0)\n",
    "    param_gate(qc, params[7], 1)\n",
    "    qc.cz(0, 1)\n",
    "    \n",
    "    param_gate(qc, inputs[0], 0)\n",
    "    param_gate(qc, inputs[1], 1)\n",
    "    qc.cz(0, 1)\n",
    "    param_gate(qc, params[8], 0)\n",
    "    param_gate(qc, params[9], 1)\n",
    "    qc.cz(0, 1) \n",
    "    param_gate(qc, inputs[2], 0)\n",
    "    param_gate(qc, inputs[3], 1)\n",
    "    qc.cz(0, 1)\n",
    "    param_gate(qc, params[10], 0)\n",
    "    param_gate(qc, params[11], 1)"
   ]
  },
  {
   "cell_type": "code",
   "execution_count": null,
   "id": "2789edd2",
   "metadata": {},
   "outputs": [],
   "source": []
  },
  {
   "cell_type": "code",
   "execution_count": 5,
   "id": "d307423f-1b46-43bf-872d-01d93fd7adc4",
   "metadata": {},
   "outputs": [],
   "source": [
    "#Returns the guessed class and loss function, given inputs and parameters\n",
    "def iris_evaluate(inputs, params, backend, real_value, shots = 750):\n",
    "    qc = QuantumCircuit(2)\n",
    "    iris_circuit(qc, inputs, params)\n",
    "    qc.measure_all()\n",
    "    job_result = execute(qc, backend, shots=shots).result()\n",
    "    job_counts = job_result.get_counts(qc)\n",
    "    keys = ['00','01','10','11']\n",
    "    for key in keys:\n",
    "        if key not in job_counts:\n",
    "            job_counts[key] = 0\n",
    "    count_array = np.array([job_counts['00'], job_counts['01'], job_counts['10'], job_counts['11']])\n",
    "    exp_array = np.exp(count_array/np.sum(count_array))[:3]\n",
    "    dominant_class = np.argmax(count_array[:3])\n",
    "    loss = -np.log(exp_array[real_value]/np.sum(exp_array))\n",
    "    return dominant_class, loss\n",
    "\n",
    "def qcnn_evaluate(inputs, params, backend, real_value, shots = 750):\n",
    "    qc = QuantumCircuit(4, 2)\n",
    "    qcnn_circuit(qc, inputs, params)\n",
    "    qc.barrier([0, 1, 2, 3])\n",
    "    qc.measure([1, 2], [0, 1])\n",
    "    job_result = execute(qc, backend, shots=shots).result()\n",
    "    job_counts = job_result.get_counts(qc)\n",
    "    keys = ['00','01','10','11']\n",
    "    for key in keys:\n",
    "        if key not in job_counts:\n",
    "            job_counts[key] = 0\n",
    "    count_array = np.array([job_counts['00'], job_counts['01'], job_counts['10'], job_counts['11']])\n",
    "    exp_array = np.exp(count_array/np.sum(count_array))[:3]\n",
    "    dominant_class = np.argmax(count_array[:3])\n",
    "    loss = -np.log(exp_array[real_value]/np.sum(exp_array))\n",
    "    return dominant_class, loss\n",
    "\n",
    "def iris_extension_evaluate(inputs, params, backend, real_value, shots = 750):\n",
    "    qc = QuantumCircuit(2)\n",
    "    iris_circuit_extension(qc, inputs, params)\n",
    "    qc.measure_all()\n",
    "    job_result = execute(qc, backend, shots=shots).result()\n",
    "    job_counts = job_result.get_counts(qc)\n",
    "    keys = ['00','01','10','11']\n",
    "    for key in keys:\n",
    "        if key not in job_counts:\n",
    "            job_counts[key] = 0\n",
    "    count_array = np.array([job_counts['00'], job_counts['01'], job_counts['10'], job_counts['11']])\n",
    "    exp_array = np.exp(count_array/np.sum(count_array))[:3]\n",
    "    dominant_class = np.argmax(count_array[:3])\n",
    "    loss = -np.log(exp_array[real_value]/np.sum(exp_array))\n",
    "    return dominant_class, loss\n",
    "\n",
    "backend = Aer.get_backend('qasm_simulator')\n",
    "starting_params_iris = np.random.rand(8) * 2 * np.pi\n",
    "starting_params_qcnn = np.random.rand(10) * 2 * np.pi\n",
    "starting_params_extension = np.random.rand(12) * 2 * np.pi\n"
   ]
  },
  {
   "cell_type": "code",
   "execution_count": null,
   "id": "a8c6ee4c",
   "metadata": {},
   "outputs": [],
   "source": []
  },
  {
   "cell_type": "code",
   "execution_count": 6,
   "id": "7a4ed958",
   "metadata": {},
   "outputs": [
    {
     "name": "stdout",
     "output_type": "stream",
     "text": [
      "Example eval using iris: \n",
      "Expected dominant class: 2\n",
      "Real class: 0\n",
      "Loss function: 1.4940394597488966\n"
     ]
    }
   ],
   "source": [
    "print(\"Example eval using iris: \")\n",
    "target_ind = 33\n",
    "dclass, loss = iris_evaluate(angles[target_ind], starting_params_iris, backend, real_classes[target_ind])\n",
    "print(\"Expected dominant class: {}\".format(dclass))\n",
    "print(\"Real class: {}\".format(real_classes[target_ind]))\n",
    "print(\"Loss function: {}\".format(loss))"
   ]
  },
  {
   "cell_type": "code",
   "execution_count": 7,
   "id": "7ed8efb9",
   "metadata": {},
   "outputs": [
    {
     "name": "stdout",
     "output_type": "stream",
     "text": [
      "Example eval using qcnn: \n",
      "Expected dominant class: 2\n",
      "Real class: 0\n",
      "Loss function: 1.0433936840929414\n"
     ]
    }
   ],
   "source": [
    "print(\"Example eval using qcnn: \")\n",
    "target_ind = 33\n",
    "dclass, loss = qcnn_evaluate(angles[target_ind], starting_params_qcnn, backend, real_classes[target_ind])\n",
    "print(\"Expected dominant class: {}\".format(dclass))\n",
    "print(\"Real class: {}\".format(real_classes[target_ind]))\n",
    "print(\"Loss function: {}\".format(loss))"
   ]
  },
  {
   "cell_type": "code",
   "execution_count": 8,
   "id": "22bfc7ad",
   "metadata": {},
   "outputs": [
    {
     "name": "stdout",
     "output_type": "stream",
     "text": [
      "Example eval using iris_extension: \n",
      "Expected dominant class: 2\n",
      "Real class: 0\n",
      "Loss function: 1.0835105442218687\n"
     ]
    }
   ],
   "source": [
    "print(\"Example eval using iris_extension: \")\n",
    "target_ind = 33\n",
    "dclass, loss = iris_extension_evaluate(angles[target_ind], starting_params_extension, backend, real_classes[target_ind])\n",
    "print(\"Expected dominant class: {}\".format(dclass))\n",
    "print(\"Real class: {}\".format(real_classes[target_ind]))\n",
    "print(\"Loss function: {}\".format(loss))"
   ]
  },
  {
   "cell_type": "code",
   "execution_count": null,
   "id": "83500c50",
   "metadata": {},
   "outputs": [],
   "source": []
  },
  {
   "cell_type": "code",
   "execution_count": 9,
   "id": "aaf3a129",
   "metadata": {},
   "outputs": [
    {
     "data": {
      "text/html": [
       "<pre style=\"word-wrap: normal;white-space: pre;background: #fff0;line-height: 1.1;font-family: &quot;Courier New&quot;,Courier,monospace\">        ┌─────────┐┌─────────────┐┌─────────┐   ┌─────────┐┌─────────────┐»\n",
       "   q_0: ┤ Rx(π/2) ├┤ Rz(0.73225) ├┤ Rx(π/2) ├─■─┤ Rx(π/2) ├┤ Rz(0.95622) ├»\n",
       "        ├─────────┤├─────────────┤├─────────┤ │ ├─────────┤├─────────────┤»\n",
       "   q_1: ┤ Rx(π/2) ├┤ Rz(0.29276) ├┤ Rx(π/2) ├─■─┤ Rx(π/2) ├┤ Rz(0.25606) ├»\n",
       "        └─────────┘└─────────────┘└─────────┘   └─────────┘└─────────────┘»\n",
       "meas: 2/══════════════════════════════════════════════════════════════════»\n",
       "                                                                          »\n",
       "«        ┌─────────┐   ┌─────────┐┌─────────────┐┌─────────┐   ┌─────────┐»\n",
       "«   q_0: ┤ Rx(π/2) ├─■─┤ Rx(π/2) ├┤ Rz(0.67927) ├┤ Rx(π/2) ├─■─┤ Rx(π/2) ├»\n",
       "«        ├─────────┤ │ ├─────────┤└┬────────────┤├─────────┤ │ ├─────────┤»\n",
       "«   q_1: ┤ Rx(π/2) ├─■─┤ Rx(π/2) ├─┤ Rz(1.1798) ├┤ Rx(π/2) ├─■─┤ Rx(π/2) ├»\n",
       "«        └─────────┘   └─────────┘ └────────────┘└─────────┘   └─────────┘»\n",
       "«meas: 2/═════════════════════════════════════════════════════════════════»\n",
       "«                                                                         »\n",
       "«        ┌──────────────┐┌─────────┐   ┌─────────┐┌─────────────┐┌─────────┐   »\n",
       "«   q_0: ┤ Rz(0.009684) ├┤ Rx(π/2) ├─■─┤ Rx(π/2) ├┤ Rz(0.73225) ├┤ Rx(π/2) ├─■─»\n",
       "«        ├─────────────┬┘├─────────┤ │ ├─────────┤├─────────────┤├─────────┤ │ »\n",
       "«   q_1: ┤ Rz(0.41149) ├─┤ Rx(π/2) ├─■─┤ Rx(π/2) ├┤ Rz(0.29276) ├┤ Rx(π/2) ├─■─»\n",
       "«        └─────────────┘ └─────────┘   └─────────┘└─────────────┘└─────────┘   »\n",
       "«meas: 2/══════════════════════════════════════════════════════════════════════»\n",
       "«                                                                              »\n",
       "«        ┌─────────┐┌─────────────┐┌─────────┐   ┌─────────┐┌─────────────┐»\n",
       "«   q_0: ┤ Rx(π/2) ├┤ Rz(0.27102) ├┤ Rx(π/2) ├─■─┤ Rx(π/2) ├┤ Rz(0.67927) ├»\n",
       "«        ├─────────┤├─────────────┤├─────────┤ │ ├─────────┤└┬────────────┤»\n",
       "«   q_1: ┤ Rx(π/2) ├┤ Rz(0.28464) ├┤ Rx(π/2) ├─■─┤ Rx(π/2) ├─┤ Rz(1.1798) ├»\n",
       "«        └─────────┘└─────────────┘└─────────┘   └─────────┘ └────────────┘»\n",
       "«meas: 2/══════════════════════════════════════════════════════════════════»\n",
       "«                                                                          »\n",
       "«        ┌─────────┐   ┌─────────┐┌─────────────┐┌─────────┐ ░ ┌─┐   \n",
       "«   q_0: ┤ Rx(π/2) ├─■─┤ Rx(π/2) ├┤ Rz(0.85256) ├┤ Rx(π/2) ├─░─┤M├───\n",
       "«        ├─────────┤ │ ├─────────┤├─────────────┤├─────────┤ ░ └╥┘┌─┐\n",
       "«   q_1: ┤ Rx(π/2) ├─■─┤ Rx(π/2) ├┤ Rz(0.19731) ├┤ Rx(π/2) ├─░──╫─┤M├\n",
       "«        └─────────┘   └─────────┘└─────────────┘└─────────┘ ░  ║ └╥┘\n",
       "«meas: 2/═══════════════════════════════════════════════════════╩══╩═\n",
       "«                                                               0  1 </pre>"
      ],
      "text/plain": [
       "        ┌─────────┐┌─────────────┐┌─────────┐   ┌─────────┐┌─────────────┐»\n",
       "   q_0: ┤ Rx(π/2) ├┤ Rz(0.73225) ├┤ Rx(π/2) ├─■─┤ Rx(π/2) ├┤ Rz(0.95622) ├»\n",
       "        ├─────────┤├─────────────┤├─────────┤ │ ├─────────┤├─────────────┤»\n",
       "   q_1: ┤ Rx(π/2) ├┤ Rz(0.29276) ├┤ Rx(π/2) ├─■─┤ Rx(π/2) ├┤ Rz(0.25606) ├»\n",
       "        └─────────┘└─────────────┘└─────────┘   └─────────┘└─────────────┘»\n",
       "meas: 2/══════════════════════════════════════════════════════════════════»\n",
       "                                                                          »\n",
       "«        ┌─────────┐   ┌─────────┐┌─────────────┐┌─────────┐   ┌─────────┐»\n",
       "«   q_0: ┤ Rx(π/2) ├─■─┤ Rx(π/2) ├┤ Rz(0.67927) ├┤ Rx(π/2) ├─■─┤ Rx(π/2) ├»\n",
       "«        ├─────────┤ │ ├─────────┤└┬────────────┤├─────────┤ │ ├─────────┤»\n",
       "«   q_1: ┤ Rx(π/2) ├─■─┤ Rx(π/2) ├─┤ Rz(1.1798) ├┤ Rx(π/2) ├─■─┤ Rx(π/2) ├»\n",
       "«        └─────────┘   └─────────┘ └────────────┘└─────────┘   └─────────┘»\n",
       "«meas: 2/═════════════════════════════════════════════════════════════════»\n",
       "«                                                                         »\n",
       "«        ┌──────────────┐┌─────────┐   ┌─────────┐┌─────────────┐┌─────────┐   »\n",
       "«   q_0: ┤ Rz(0.009684) ├┤ Rx(π/2) ├─■─┤ Rx(π/2) ├┤ Rz(0.73225) ├┤ Rx(π/2) ├─■─»\n",
       "«        ├─────────────┬┘├─────────┤ │ ├─────────┤├─────────────┤├─────────┤ │ »\n",
       "«   q_1: ┤ Rz(0.41149) ├─┤ Rx(π/2) ├─■─┤ Rx(π/2) ├┤ Rz(0.29276) ├┤ Rx(π/2) ├─■─»\n",
       "«        └─────────────┘ └─────────┘   └─────────┘└─────────────┘└─────────┘   »\n",
       "«meas: 2/══════════════════════════════════════════════════════════════════════»\n",
       "«                                                                              »\n",
       "«        ┌─────────┐┌─────────────┐┌─────────┐   ┌─────────┐┌─────────────┐»\n",
       "«   q_0: ┤ Rx(π/2) ├┤ Rz(0.27102) ├┤ Rx(π/2) ├─■─┤ Rx(π/2) ├┤ Rz(0.67927) ├»\n",
       "«        ├─────────┤├─────────────┤├─────────┤ │ ├─────────┤└┬────────────┤»\n",
       "«   q_1: ┤ Rx(π/2) ├┤ Rz(0.28464) ├┤ Rx(π/2) ├─■─┤ Rx(π/2) ├─┤ Rz(1.1798) ├»\n",
       "«        └─────────┘└─────────────┘└─────────┘   └─────────┘ └────────────┘»\n",
       "«meas: 2/══════════════════════════════════════════════════════════════════»\n",
       "«                                                                          »\n",
       "«        ┌─────────┐   ┌─────────┐┌─────────────┐┌─────────┐ ░ ┌─┐   \n",
       "«   q_0: ┤ Rx(π/2) ├─■─┤ Rx(π/2) ├┤ Rz(0.85256) ├┤ Rx(π/2) ├─░─┤M├───\n",
       "«        ├─────────┤ │ ├─────────┤├─────────────┤├─────────┤ ░ └╥┘┌─┐\n",
       "«   q_1: ┤ Rx(π/2) ├─■─┤ Rx(π/2) ├┤ Rz(0.19731) ├┤ Rx(π/2) ├─░──╫─┤M├\n",
       "«        └─────────┘   └─────────┘└─────────────┘└─────────┘ ░  ║ └╥┘\n",
       "«meas: 2/═══════════════════════════════════════════════════════╩══╩═\n",
       "«                                                               0  1 "
      ]
     },
     "execution_count": 9,
     "metadata": {},
     "output_type": "execute_result"
    }
   ],
   "source": [
    "test = QuantumCircuit(2)\n",
    "test_parameters = np.random.rand(8)\n",
    "test_inputs = angles[125]\n",
    "test_real_value = real_classes[125]\n",
    "test_backend = Aer.get_backend('qasm_simulator')\n",
    "test_shots = 512\n",
    "\n",
    "iris_circuit(test, test_inputs, test_parameters)\n",
    "test.measure_all()\n",
    "\n",
    "\n",
    "test_job_result = execute(test, test_backend, shots=test_shots).result()\n",
    "test_job_counts = test_job_result.get_counts(test)\n",
    "keys = ['00','01','10','11']\n",
    "for key in keys:\n",
    "    if key not in test_job_counts:\n",
    "        test_job_counts[key] = 0\n",
    "        \n",
    "test_count_array = np.array([test_job_counts['00'], test_job_counts['01'], test_job_counts['10'], test_job_counts['11']])\n",
    "test_exp_array = np.exp(test_count_array/np.sum(test_count_array))[:3]\n",
    "test_dominant_class = np.argmax(test_count_array[:3])\n",
    "test_loss = -np.log(test_exp_array[test_real_value]/np.sum(test_exp_array))\n",
    "\n",
    "\n",
    "test.draw()"
   ]
  },
  {
   "cell_type": "code",
   "execution_count": 10,
   "id": "5217b3b2",
   "metadata": {},
   "outputs": [
    {
     "data": {
      "text/html": [
       "<pre style=\"word-wrap: normal;white-space: pre;background: #fff0;line-height: 1.1;font-family: &quot;Courier New&quot;,Courier,monospace\">     ┌─────────┐┌──────────────┐┌─────────┐   ┌─────────┐┌────────────┐»\n",
       "q_0: ┤ Rx(π/2) ├┤ Rz(-0.45518) ├┤ Rx(π/2) ├─■─┤ Rx(π/2) ├┤ Rz(5.4766) ├»\n",
       "     ├─────────┤├─────────────┬┘├─────────┤ │ └─────────┘└┬─────────┬─┘»\n",
       "q_1: ┤ Rx(π/2) ├┤ Rz(0.69381) ├─┤ Rx(π/2) ├─■──────■──────┤ Rx(π/2) ├──»\n",
       "     ├─────────┤├─────────────┴┐├─────────┤        │      └─────────┘  »\n",
       "q_2: ┤ Rx(π/2) ├┤ Rz(-0.68452) ├┤ Rx(π/2) ├────────■───────────■───────»\n",
       "     ├─────────┤├─────────────┬┘├─────────┤                    │       »\n",
       "q_3: ┤ Rx(π/2) ├┤ Rz(-1.9593) ├─┤ Rx(π/2) ├────────────────────■───────»\n",
       "     └─────────┘└─────────────┘ └─────────┘                            »\n",
       "c: 2/══════════════════════════════════════════════════════════════════»\n",
       "                                                                       »\n",
       "«      ┌─────────┐                                               »\n",
       "«q_0: ─┤ Rx(π/2) ├──────────────────────■───────────────■────────»\n",
       "«     ┌┴─────────┴─┐  ┌─────────┐       │        ┌──────┴───────┐»\n",
       "«q_1: ┤ Rz(1.0411) ├──┤ Rx(π/2) ├───────■──────■─┤ circuit-1766 ├»\n",
       "«     └┬─────────┬─┘ ┌┴─────────┴─┐┌─────────┐ │ └──────────────┘»\n",
       "«q_2: ─┤ Rx(π/2) ├───┤ Rz(2.2762) ├┤ Rx(π/2) ├─■────────■────────»\n",
       "«      ├─────────┤  ┌┴────────────┤├─────────┤          │        »\n",
       "«q_3: ─┤ Rx(π/2) ├──┤ Rz(0.69381) ├┤ Rx(π/2) ├──────────■────────»\n",
       "«      └─────────┘  └─────────────┘└─────────┘                   »\n",
       "«c: 2/═══════════════════════════════════════════════════════════»\n",
       "«                                                                »\n",
       "«                                                                            »\n",
       "«q_0: ───────────────────────────────────────────────────────────────────────»\n",
       "«                        ┌─────────┐┌──────────────┐┌─────────┐   ┌─────────┐»\n",
       "«q_1: ─────────────────■─┤ Rx(π/2) ├┤ Rz(-0.45518) ├┤ Rx(π/2) ├─■─┤ Rx(π/2) ├»\n",
       "«     ┌──────────────┐ │ ├─────────┤├─────────────┬┘├─────────┤ │ ├─────────┤»\n",
       "«q_2: ┤ circuit-1767 ├─■─┤ Rx(π/2) ├┤ Rz(0.69381) ├─┤ Rx(π/2) ├─■─┤ Rx(π/2) ├»\n",
       "«     └──────┬───────┘   └─────────┘└─────────────┘ └─────────┘   └─────────┘»\n",
       "«q_3: ───────■───────────────────────────────────────────────────────────────»\n",
       "«                                                                            »\n",
       "«c: 2/═══════════════════════════════════════════════════════════════════════»\n",
       "«                                                                            »\n",
       "«                                                                          »\n",
       "«q_0: ─────────────────────────────────────────────────────────────────────»\n",
       "«     ┌───────────┐ ┌─────────┐   ┌─────────┐┌──────────────┐┌─────────┐   »\n",
       "«q_1: ┤ Rz(1.073) ├─┤ Rx(π/2) ├─■─┤ Rx(π/2) ├┤ Rz(-0.68452) ├┤ Rx(π/2) ├─■─»\n",
       "«     ├───────────┴┐├─────────┤ │ ├─────────┤├─────────────┬┘├─────────┤ │ »\n",
       "«q_2: ┤ Rz(1.5432) ├┤ Rx(π/2) ├─■─┤ Rx(π/2) ├┤ Rz(-1.9593) ├─┤ Rx(π/2) ├─■─»\n",
       "«     └────────────┘└─────────┘   └─────────┘└─────────────┘ └─────────┘   »\n",
       "«q_3: ─────────────────────────────────────────────────────────────────────»\n",
       "«                                                                          »\n",
       "«c: 2/═════════════════════════════════════════════════════════════════════»\n",
       "«                                                                          »\n",
       "«                                          ░       \n",
       "«q_0: ─────────────────────────────────────░───────\n",
       "«     ┌─────────┐┌────────────┐┌─────────┐ ░ ┌─┐   \n",
       "«q_1: ┤ Rx(π/2) ├┤ Rz(3.9659) ├┤ Rx(π/2) ├─░─┤M├───\n",
       "«     ├─────────┤├────────────┤├─────────┤ ░ └╥┘┌─┐\n",
       "«q_2: ┤ Rx(π/2) ├┤ Rz(2.4779) ├┤ Rx(π/2) ├─░──╫─┤M├\n",
       "«     └─────────┘└────────────┘└─────────┘ ░  ║ └╥┘\n",
       "«q_3: ─────────────────────────────────────░──╫──╫─\n",
       "«                                          ░  ║  ║ \n",
       "«c: 2/════════════════════════════════════════╩══╩═\n",
       "«                                             0  1 </pre>"
      ],
      "text/plain": [
       "     ┌─────────┐┌──────────────┐┌─────────┐   ┌─────────┐┌────────────┐»\n",
       "q_0: ┤ Rx(π/2) ├┤ Rz(-0.45518) ├┤ Rx(π/2) ├─■─┤ Rx(π/2) ├┤ Rz(5.4766) ├»\n",
       "     ├─────────┤├─────────────┬┘├─────────┤ │ └─────────┘└┬─────────┬─┘»\n",
       "q_1: ┤ Rx(π/2) ├┤ Rz(0.69381) ├─┤ Rx(π/2) ├─■──────■──────┤ Rx(π/2) ├──»\n",
       "     ├─────────┤├─────────────┴┐├─────────┤        │      └─────────┘  »\n",
       "q_2: ┤ Rx(π/2) ├┤ Rz(-0.68452) ├┤ Rx(π/2) ├────────■───────────■───────»\n",
       "     ├─────────┤├─────────────┬┘├─────────┤                    │       »\n",
       "q_3: ┤ Rx(π/2) ├┤ Rz(-1.9593) ├─┤ Rx(π/2) ├────────────────────■───────»\n",
       "     └─────────┘└─────────────┘ └─────────┘                            »\n",
       "c: 2/══════════════════════════════════════════════════════════════════»\n",
       "                                                                       »\n",
       "«      ┌─────────┐                                               »\n",
       "«q_0: ─┤ Rx(π/2) ├──────────────────────■───────────────■────────»\n",
       "«     ┌┴─────────┴─┐  ┌─────────┐       │        ┌──────┴───────┐»\n",
       "«q_1: ┤ Rz(1.0411) ├──┤ Rx(π/2) ├───────■──────■─┤ circuit-1766 ├»\n",
       "«     └┬─────────┬─┘ ┌┴─────────┴─┐┌─────────┐ │ └──────────────┘»\n",
       "«q_2: ─┤ Rx(π/2) ├───┤ Rz(2.2762) ├┤ Rx(π/2) ├─■────────■────────»\n",
       "«      ├─────────┤  ┌┴────────────┤├─────────┤          │        »\n",
       "«q_3: ─┤ Rx(π/2) ├──┤ Rz(0.69381) ├┤ Rx(π/2) ├──────────■────────»\n",
       "«      └─────────┘  └─────────────┘└─────────┘                   »\n",
       "«c: 2/═══════════════════════════════════════════════════════════»\n",
       "«                                                                »\n",
       "«                                                                            »\n",
       "«q_0: ───────────────────────────────────────────────────────────────────────»\n",
       "«                        ┌─────────┐┌──────────────┐┌─────────┐   ┌─────────┐»\n",
       "«q_1: ─────────────────■─┤ Rx(π/2) ├┤ Rz(-0.45518) ├┤ Rx(π/2) ├─■─┤ Rx(π/2) ├»\n",
       "«     ┌──────────────┐ │ ├─────────┤├─────────────┬┘├─────────┤ │ ├─────────┤»\n",
       "«q_2: ┤ circuit-1767 ├─■─┤ Rx(π/2) ├┤ Rz(0.69381) ├─┤ Rx(π/2) ├─■─┤ Rx(π/2) ├»\n",
       "«     └──────┬───────┘   └─────────┘└─────────────┘ └─────────┘   └─────────┘»\n",
       "«q_3: ───────■───────────────────────────────────────────────────────────────»\n",
       "«                                                                            »\n",
       "«c: 2/═══════════════════════════════════════════════════════════════════════»\n",
       "«                                                                            »\n",
       "«                                                                          »\n",
       "«q_0: ─────────────────────────────────────────────────────────────────────»\n",
       "«     ┌───────────┐ ┌─────────┐   ┌─────────┐┌──────────────┐┌─────────┐   »\n",
       "«q_1: ┤ Rz(1.073) ├─┤ Rx(π/2) ├─■─┤ Rx(π/2) ├┤ Rz(-0.68452) ├┤ Rx(π/2) ├─■─»\n",
       "«     ├───────────┴┐├─────────┤ │ ├─────────┤├─────────────┬┘├─────────┤ │ »\n",
       "«q_2: ┤ Rz(1.5432) ├┤ Rx(π/2) ├─■─┤ Rx(π/2) ├┤ Rz(-1.9593) ├─┤ Rx(π/2) ├─■─»\n",
       "«     └────────────┘└─────────┘   └─────────┘└─────────────┘ └─────────┘   »\n",
       "«q_3: ─────────────────────────────────────────────────────────────────────»\n",
       "«                                                                          »\n",
       "«c: 2/═════════════════════════════════════════════════════════════════════»\n",
       "«                                                                          »\n",
       "«                                          ░       \n",
       "«q_0: ─────────────────────────────────────░───────\n",
       "«     ┌─────────┐┌────────────┐┌─────────┐ ░ ┌─┐   \n",
       "«q_1: ┤ Rx(π/2) ├┤ Rz(3.9659) ├┤ Rx(π/2) ├─░─┤M├───\n",
       "«     ├─────────┤├────────────┤├─────────┤ ░ └╥┘┌─┐\n",
       "«q_2: ┤ Rx(π/2) ├┤ Rz(2.4779) ├┤ Rx(π/2) ├─░──╫─┤M├\n",
       "«     └─────────┘└────────────┘└─────────┘ ░  ║ └╥┘\n",
       "«q_3: ─────────────────────────────────────░──╫──╫─\n",
       "«                                          ░  ║  ║ \n",
       "«c: 2/════════════════════════════════════════╩══╩═\n",
       "«                                             0  1 "
      ]
     },
     "execution_count": 10,
     "metadata": {},
     "output_type": "execute_result"
    }
   ],
   "source": [
    "a = angles[7]\n",
    "b = np.random.rand(10) * 2 * np.pi\n",
    "qc = QuantumCircuit(4, 2)\n",
    "qcnn_circuit(qc, a, b)\n",
    "qc.barrier([0, 1, 2, 3])\n",
    "\n",
    "qc.measure([1, 2], [0, 1])\n",
    "qc.draw()"
   ]
  },
  {
   "cell_type": "code",
   "execution_count": 11,
   "id": "3c8c9b2c",
   "metadata": {},
   "outputs": [
    {
     "data": {
      "text/html": [
       "<pre style=\"word-wrap: normal;white-space: pre;background: #fff0;line-height: 1.1;font-family: &quot;Courier New&quot;,Courier,monospace\">        ┌─────────┐┌─────────────┐ ┌─────────┐   ┌─────────┐┌────────────┐»\n",
       "   q_0: ┤ Rx(π/2) ├┤ Rz(0.35443) ├─┤ Rx(π/2) ├─■─┤ Rx(π/2) ├┤ Rz(2.3628) ├»\n",
       "        ├─────────┤├─────────────┴┐├─────────┤ │ ├─────────┤├────────────┤»\n",
       "   q_1: ┤ Rx(π/2) ├┤ Rz(-0.50933) ├┤ Rx(π/2) ├─■─┤ Rx(π/2) ├┤ Rz(2.2171) ├»\n",
       "        └─────────┘└──────────────┘└─────────┘   └─────────┘└────────────┘»\n",
       "meas: 2/══════════════════════════════════════════════════════════════════»\n",
       "                                                                          »\n",
       "«        ┌─────────┐   ┌─────────┐┌─────────────┐┌─────────┐   ┌─────────┐»\n",
       "«   q_0: ┤ Rx(π/2) ├─■─┤ Rx(π/2) ├┤ Rz(0.25498) ├┤ Rx(π/2) ├─■─┤ Rx(π/2) ├»\n",
       "«        ├─────────┤ │ ├─────────┤├─────────────┤├─────────┤ │ ├─────────┤»\n",
       "«   q_1: ┤ Rx(π/2) ├─■─┤ Rx(π/2) ├┤ Rz(0.59119) ├┤ Rx(π/2) ├─■─┤ Rx(π/2) ├»\n",
       "«        └─────────┘   └─────────┘└─────────────┘└─────────┘   └─────────┘»\n",
       "«meas: 2/═════════════════════════════════════════════════════════════════»\n",
       "«                                                                         »\n",
       "«        ┌───────────┐ ┌─────────┐   ┌─────────┐┌─────────────┐ ┌─────────┐   »\n",
       "«   q_0: ┤ Rz(3.883) ├─┤ Rx(π/2) ├─■─┤ Rx(π/2) ├┤ Rz(0.35443) ├─┤ Rx(π/2) ├─■─»\n",
       "«        ├───────────┴┐├─────────┤ │ ├─────────┤├─────────────┴┐├─────────┤ │ »\n",
       "«   q_1: ┤ Rz(4.9694) ├┤ Rx(π/2) ├─■─┤ Rx(π/2) ├┤ Rz(-0.50933) ├┤ Rx(π/2) ├─■─»\n",
       "«        └────────────┘└─────────┘   └─────────┘└──────────────┘└─────────┘   »\n",
       "«meas: 2/═════════════════════════════════════════════════════════════════════»\n",
       "«                                                                             »\n",
       "«        ┌─────────┐ ┌───────────┐ ┌─────────┐   ┌─────────┐┌─────────────┐»\n",
       "«   q_0: ┤ Rx(π/2) ├─┤ Rz(4.977) ├─┤ Rx(π/2) ├─■─┤ Rx(π/2) ├┤ Rz(0.25498) ├»\n",
       "«        ├─────────┤┌┴───────────┴┐├─────────┤ │ ├─────────┤├─────────────┤»\n",
       "«   q_1: ┤ Rx(π/2) ├┤ Rz(0.33126) ├┤ Rx(π/2) ├─■─┤ Rx(π/2) ├┤ Rz(0.59119) ├»\n",
       "«        └─────────┘└─────────────┘└─────────┘   └─────────┘└─────────────┘»\n",
       "«meas: 2/══════════════════════════════════════════════════════════════════»\n",
       "«                                                                          »\n",
       "«        ┌─────────┐   ┌─────────┐┌────────────┐┌─────────┐   ┌─────────┐»\n",
       "«   q_0: ┤ Rx(π/2) ├─■─┤ Rx(π/2) ├┤ Rz(2.4853) ├┤ Rx(π/2) ├─■─┤ Rx(π/2) ├»\n",
       "«        ├─────────┤ │ ├─────────┤├────────────┤├─────────┤ │ ├─────────┤»\n",
       "«   q_1: ┤ Rx(π/2) ├─■─┤ Rx(π/2) ├┤ Rz(3.1283) ├┤ Rx(π/2) ├─■─┤ Rx(π/2) ├»\n",
       "«        └─────────┘   └─────────┘└────────────┘└─────────┘   └─────────┘»\n",
       "«meas: 2/════════════════════════════════════════════════════════════════»\n",
       "«                                                                        »\n",
       "«        ┌─────────────┐ ┌─────────┐   ┌─────────┐┌────────────┐┌─────────┐   »\n",
       "«   q_0: ┤ Rz(0.35443) ├─┤ Rx(π/2) ├─■─┤ Rx(π/2) ├┤ Rz(3.9319) ├┤ Rx(π/2) ├─■─»\n",
       "«        ├─────────────┴┐├─────────┤ │ ├─────────┤├────────────┤├─────────┤ │ »\n",
       "«   q_1: ┤ Rz(-0.50933) ├┤ Rx(π/2) ├─■─┤ Rx(π/2) ├┤ Rz(2.7096) ├┤ Rx(π/2) ├─■─»\n",
       "«        └──────────────┘└─────────┘   └─────────┘└────────────┘└─────────┘   »\n",
       "«meas: 2/═════════════════════════════════════════════════════════════════════»\n",
       "«                                                                             »\n",
       "«        ┌─────────┐┌─────────────┐┌─────────┐   ┌─────────┐┌──────────────┐»\n",
       "«   q_0: ┤ Rx(π/2) ├┤ Rz(0.25498) ├┤ Rx(π/2) ├─■─┤ Rx(π/2) ├┤ Rz(0.025065) ├»\n",
       "«        ├─────────┤├─────────────┤├─────────┤ │ ├─────────┤├─────────────┬┘»\n",
       "«   q_1: ┤ Rx(π/2) ├┤ Rz(0.59119) ├┤ Rx(π/2) ├─■─┤ Rx(π/2) ├┤ Rz(0.48796) ├─»\n",
       "«        └─────────┘└─────────────┘└─────────┘   └─────────┘└─────────────┘ »\n",
       "«meas: 2/═══════════════════════════════════════════════════════════════════»\n",
       "«                                                                           »\n",
       "«        ┌─────────┐ ░ ┌─┐   \n",
       "«   q_0: ┤ Rx(π/2) ├─░─┤M├───\n",
       "«        ├─────────┤ ░ └╥┘┌─┐\n",
       "«   q_1: ┤ Rx(π/2) ├─░──╫─┤M├\n",
       "«        └─────────┘ ░  ║ └╥┘\n",
       "«meas: 2/═══════════════╩══╩═\n",
       "«                       0  1 </pre>"
      ],
      "text/plain": [
       "        ┌─────────┐┌─────────────┐ ┌─────────┐   ┌─────────┐┌────────────┐»\n",
       "   q_0: ┤ Rx(π/2) ├┤ Rz(0.35443) ├─┤ Rx(π/2) ├─■─┤ Rx(π/2) ├┤ Rz(2.3628) ├»\n",
       "        ├─────────┤├─────────────┴┐├─────────┤ │ ├─────────┤├────────────┤»\n",
       "   q_1: ┤ Rx(π/2) ├┤ Rz(-0.50933) ├┤ Rx(π/2) ├─■─┤ Rx(π/2) ├┤ Rz(2.2171) ├»\n",
       "        └─────────┘└──────────────┘└─────────┘   └─────────┘└────────────┘»\n",
       "meas: 2/══════════════════════════════════════════════════════════════════»\n",
       "                                                                          »\n",
       "«        ┌─────────┐   ┌─────────┐┌─────────────┐┌─────────┐   ┌─────────┐»\n",
       "«   q_0: ┤ Rx(π/2) ├─■─┤ Rx(π/2) ├┤ Rz(0.25498) ├┤ Rx(π/2) ├─■─┤ Rx(π/2) ├»\n",
       "«        ├─────────┤ │ ├─────────┤├─────────────┤├─────────┤ │ ├─────────┤»\n",
       "«   q_1: ┤ Rx(π/2) ├─■─┤ Rx(π/2) ├┤ Rz(0.59119) ├┤ Rx(π/2) ├─■─┤ Rx(π/2) ├»\n",
       "«        └─────────┘   └─────────┘└─────────────┘└─────────┘   └─────────┘»\n",
       "«meas: 2/═════════════════════════════════════════════════════════════════»\n",
       "«                                                                         »\n",
       "«        ┌───────────┐ ┌─────────┐   ┌─────────┐┌─────────────┐ ┌─────────┐   »\n",
       "«   q_0: ┤ Rz(3.883) ├─┤ Rx(π/2) ├─■─┤ Rx(π/2) ├┤ Rz(0.35443) ├─┤ Rx(π/2) ├─■─»\n",
       "«        ├───────────┴┐├─────────┤ │ ├─────────┤├─────────────┴┐├─────────┤ │ »\n",
       "«   q_1: ┤ Rz(4.9694) ├┤ Rx(π/2) ├─■─┤ Rx(π/2) ├┤ Rz(-0.50933) ├┤ Rx(π/2) ├─■─»\n",
       "«        └────────────┘└─────────┘   └─────────┘└──────────────┘└─────────┘   »\n",
       "«meas: 2/═════════════════════════════════════════════════════════════════════»\n",
       "«                                                                             »\n",
       "«        ┌─────────┐ ┌───────────┐ ┌─────────┐   ┌─────────┐┌─────────────┐»\n",
       "«   q_0: ┤ Rx(π/2) ├─┤ Rz(4.977) ├─┤ Rx(π/2) ├─■─┤ Rx(π/2) ├┤ Rz(0.25498) ├»\n",
       "«        ├─────────┤┌┴───────────┴┐├─────────┤ │ ├─────────┤├─────────────┤»\n",
       "«   q_1: ┤ Rx(π/2) ├┤ Rz(0.33126) ├┤ Rx(π/2) ├─■─┤ Rx(π/2) ├┤ Rz(0.59119) ├»\n",
       "«        └─────────┘└─────────────┘└─────────┘   └─────────┘└─────────────┘»\n",
       "«meas: 2/══════════════════════════════════════════════════════════════════»\n",
       "«                                                                          »\n",
       "«        ┌─────────┐   ┌─────────┐┌────────────┐┌─────────┐   ┌─────────┐»\n",
       "«   q_0: ┤ Rx(π/2) ├─■─┤ Rx(π/2) ├┤ Rz(2.4853) ├┤ Rx(π/2) ├─■─┤ Rx(π/2) ├»\n",
       "«        ├─────────┤ │ ├─────────┤├────────────┤├─────────┤ │ ├─────────┤»\n",
       "«   q_1: ┤ Rx(π/2) ├─■─┤ Rx(π/2) ├┤ Rz(3.1283) ├┤ Rx(π/2) ├─■─┤ Rx(π/2) ├»\n",
       "«        └─────────┘   └─────────┘└────────────┘└─────────┘   └─────────┘»\n",
       "«meas: 2/════════════════════════════════════════════════════════════════»\n",
       "«                                                                        »\n",
       "«        ┌─────────────┐ ┌─────────┐   ┌─────────┐┌────────────┐┌─────────┐   »\n",
       "«   q_0: ┤ Rz(0.35443) ├─┤ Rx(π/2) ├─■─┤ Rx(π/2) ├┤ Rz(3.9319) ├┤ Rx(π/2) ├─■─»\n",
       "«        ├─────────────┴┐├─────────┤ │ ├─────────┤├────────────┤├─────────┤ │ »\n",
       "«   q_1: ┤ Rz(-0.50933) ├┤ Rx(π/2) ├─■─┤ Rx(π/2) ├┤ Rz(2.7096) ├┤ Rx(π/2) ├─■─»\n",
       "«        └──────────────┘└─────────┘   └─────────┘└────────────┘└─────────┘   »\n",
       "«meas: 2/═════════════════════════════════════════════════════════════════════»\n",
       "«                                                                             »\n",
       "«        ┌─────────┐┌─────────────┐┌─────────┐   ┌─────────┐┌──────────────┐»\n",
       "«   q_0: ┤ Rx(π/2) ├┤ Rz(0.25498) ├┤ Rx(π/2) ├─■─┤ Rx(π/2) ├┤ Rz(0.025065) ├»\n",
       "«        ├─────────┤├─────────────┤├─────────┤ │ ├─────────┤├─────────────┬┘»\n",
       "«   q_1: ┤ Rx(π/2) ├┤ Rz(0.59119) ├┤ Rx(π/2) ├─■─┤ Rx(π/2) ├┤ Rz(0.48796) ├─»\n",
       "«        └─────────┘└─────────────┘└─────────┘   └─────────┘└─────────────┘ »\n",
       "«meas: 2/═══════════════════════════════════════════════════════════════════»\n",
       "«                                                                           »\n",
       "«        ┌─────────┐ ░ ┌─┐   \n",
       "«   q_0: ┤ Rx(π/2) ├─░─┤M├───\n",
       "«        ├─────────┤ ░ └╥┘┌─┐\n",
       "«   q_1: ┤ Rx(π/2) ├─░──╫─┤M├\n",
       "«        └─────────┘ ░  ║ └╥┘\n",
       "«meas: 2/═══════════════╩══╩═\n",
       "«                       0  1 "
      ]
     },
     "execution_count": 11,
     "metadata": {},
     "output_type": "execute_result"
    }
   ],
   "source": [
    "c = angles[54]\n",
    "d = np.random.rand(12) * 2 * np.pi\n",
    "qc = QuantumCircuit(2)\n",
    "iris_circuit_extension(qc, c, d)\n",
    "qc.measure_all()\n",
    "qc.draw()"
   ]
  },
  {
   "cell_type": "code",
   "execution_count": null,
   "id": "9fbbdc1c",
   "metadata": {},
   "outputs": [],
   "source": []
  },
  {
   "cell_type": "code",
   "execution_count": 12,
   "id": "553008c3",
   "metadata": {},
   "outputs": [],
   "source": [
    "#Returns the average loss function over a certain batch\n",
    "def evaluate_batch_iris(batch_args, params, backend):\n",
    "    losses = np.zeros(len(batch_args))\n",
    "    for ind,arg in enumerate(batch_args):\n",
    "        dclass, loss = iris_evaluate(angles[arg], params, backend, real_classes[arg])\n",
    "        losses[ind] = loss\n",
    "    avgloss = np.mean(losses)\n",
    "    return avgloss\n",
    "\n",
    "def evaluate_batch_qcnn(batch_args, params, backend):\n",
    "    losses = np.zeros(len(batch_args))\n",
    "    for ind,arg in enumerate(batch_args):\n",
    "        dclass, loss = qcnn_evaluate(angles[arg], params, backend, real_classes[arg])\n",
    "        losses[ind] = loss\n",
    "    avgloss = np.mean(losses)\n",
    "    return avgloss\n",
    "\n",
    "def evaluate_batch_extension(batch_args, params, backend):\n",
    "    losses = np.zeros(len(batch_args))\n",
    "    for ind,arg in enumerate(batch_args):\n",
    "        dclass, loss = iris_extension_evaluate(angles[arg], params, backend, real_classes[arg])\n",
    "        losses[ind] = loss\n",
    "    avgloss = np.mean(losses)\n",
    "    return avgloss\n",
    "\n",
    "def objective_fn(params, algorithm, training_args):\n",
    "    backend = Aer.get_backend('qasm_simulator')\n",
    "    batch_args = cp.deepcopy(training_args)\n",
    "    return algorithm(batch_args, params, backend)\n",
    "\n",
    "def optimization_cobyla(starting_params, algorithm, training_args):\n",
    "    points = []\n",
    "    values = []  \n",
    "    N_iteration = [0]\n",
    "    def callback_cobyla(params):\n",
    "        points.append(params.tolist())\n",
    "        values.append(objective_fn(params, algorithm, training_args))\n",
    "        N_iteration[0] += 1\n",
    "        \n",
    "    result = sp.optimize.minimize(objective_fn, starting_params, args = (algorithm, training_args),  method = 'COBYLA', options = {\"maxiter\":100000}, callback = callback_cobyla)\n",
    "    \n",
    "    return N_iteration[0], np.array(points), np.array(values), result "
   ]
  },
  {
   "cell_type": "code",
   "execution_count": 13,
   "id": "5d913fed",
   "metadata": {},
   "outputs": [],
   "source": [
    "iteration_num_iris, parameters_record_iris, loss_record_iris, result_iris = optimization_cobyla(starting_params_iris, evaluate_batch_iris, training_args)"
   ]
  },
  {
   "cell_type": "code",
   "execution_count": 14,
   "id": "569e061d",
   "metadata": {},
   "outputs": [],
   "source": [
    "iteration_num_qcnn, parameters_record_qcnn, loss_record_qcnn, result_qcnn = optimization_cobyla(starting_params_qcnn, evaluate_batch_qcnn, training_args)"
   ]
  },
  {
   "cell_type": "code",
   "execution_count": 15,
   "id": "90a3dd7e",
   "metadata": {},
   "outputs": [],
   "source": [
    "iteration_num_extension, parameters_record_extension, loss_record_extension, result_extension = optimization_cobyla(starting_params_extension, evaluate_batch_extension, training_args)"
   ]
  },
  {
   "cell_type": "code",
   "execution_count": 43,
   "id": "35c3a164",
   "metadata": {},
   "outputs": [
    {
     "name": "stdout",
     "output_type": "stream",
     "text": [
      "final point for iris is [7.08237947 6.66300735 4.2576522  4.66728408 5.32607629 3.99330482\n",
      " 4.83654326 4.99550688], final training loss value is 0.812267221860607\n",
      "final point for qcnn is [3.28814838 5.80291478 3.91136325 0.95135079 4.12627121 3.84474912\n",
      " 5.09552948 2.47513841 1.57865092 3.37266544], final training loss value is 0.7729897051871205\n",
      "final point for iris_extension is [1.90990048 1.88258649 5.27431898 4.48051316 4.98429891 1.89038102\n",
      " 1.48359091 1.15435063 3.79702624 4.76983903 0.70546706 1.66202727], final training loss value is 0.7607678941725352\n"
     ]
    },
    {
     "data": {
      "image/png": "[encoded data removed]",
      "text/plain": [
       "<Figure size 432x288 with 1 Axes>"
      ]
     },
     "metadata": {
      "needs_background": "light"
     },
     "output_type": "display_data"
    }
   ],
   "source": [
    "import matplotlib.pyplot as plt\n",
    "plt.plot(np.arange(iteration_num_iris), loss_record_iris)\n",
    "plt.plot(np.arange(iteration_num_qcnn), loss_record_qcnn)\n",
    "plt.plot(np.arange(iteration_num_extension), loss_record_extension)\n",
    "\n",
    "plt.xlabel(\"number of iterations\")\n",
    "plt.ylabel('loss value')\n",
    "plt.title('training record')\n",
    "plt.legend(['iris', 'qcnn', \"iris_extension\"])\n",
    "\n",
    "\n",
    "print(\"final point for iris is {}, final training loss value is {}\".format(result_iris.x, result_iris.fun))\n",
    "print(\"final point for qcnn is {}, final training loss value is {}\".format(result_qcnn.x, result_qcnn.fun))\n",
    "print(\"final point for iris_extension is {}, final training loss value is {}\".format(result_extension.x, result_extension.fun))\n",
    "\n"
   ]
  },
  {
   "cell_type": "code",
   "execution_count": null,
   "id": "0ccab4ca",
   "metadata": {},
   "outputs": [],
   "source": []
  },
  {
   "cell_type": "markdown",
   "id": "6a733e3c",
   "metadata": {},
   "source": [
    "def gradient_descent(inital_params, batch_args, backend, eta=0.1, num_steps = 100): \n",
    "    parameters = cp.deepcopy(inital_params)\n",
    "    for step in range(num_steps):\n",
    "        deriv = []\n",
    "        for i in range(len(parameters)): \n",
    "            for_parameters = cp.deepcopy(parameters)\n",
    "            back_parameters = cp.deepcopy(parameters) \n",
    "            for_parameters[i] += 0.01\n",
    "            back_parameters[i] -= 0.01\n",
    "            deriv.append((evaluate_batch(batch_args, for_parameters, backend) -\n",
    "                          evaluate_batch(batch_args, back_parameters, backend))/0.02) \n",
    "                \n",
    "        parameters -= eta * np.array(deriv)\n",
    "        print(step, evaluate_batch(batch_args, parameters, backend))\n",
    "    return parameters\n",
    "trained_parameters = gradient_descent(starting_params, training_args, backend)"
   ]
  },
  {
   "cell_type": "code",
   "execution_count": null,
   "id": "4b3b1a56",
   "metadata": {},
   "outputs": [],
   "source": []
  },
  {
   "cell_type": "code",
   "execution_count": 17,
   "id": "b702f3e8",
   "metadata": {},
   "outputs": [],
   "source": [
    "num_instances = 5\n",
    "starting_parameters_iris = [np.random.rand(8)*2*np.pi for i in range(num_instances)]\n",
    "starting_parameters_qcnn = [np.random.rand(10)*2*np.pi for i in range(num_instances)]\n",
    "starting_parameters_extension = [np.random.rand(12)*2*np.pi for i in range(num_instances)]\n"
   ]
  },
  {
   "cell_type": "code",
   "execution_count": 18,
   "id": "f922955c",
   "metadata": {},
   "outputs": [
    {
     "data": {
      "text/plain": [
       "[array([3.93943502, 3.36174739, 2.0764446 , 6.24152905, 2.33236744,\n",
       "        1.60299211, 2.98096482, 4.37960995]),\n",
       " array([1.72250042, 5.03107443, 0.02217508, 3.64620082, 3.74198831,\n",
       "        1.13041446, 1.81680117, 3.64032153]),\n",
       " array([0.814574  , 4.2526429 , 2.93724152, 1.34271782, 1.99989192,\n",
       "        2.7192869 , 5.12176354, 3.93230677]),\n",
       " array([1.77832028, 1.87476752, 0.38728052, 6.12082767, 4.58191366,\n",
       "        1.27558256, 2.0466276 , 3.47019868]),\n",
       " array([2.45466964, 2.45307265, 2.82605929, 1.08501898, 0.42523013,\n",
       "        5.93511428, 0.10494403, 2.13140472])]"
      ]
     },
     "execution_count": 18,
     "metadata": {},
     "output_type": "execute_result"
    }
   ],
   "source": [
    "starting_parameters_iris"
   ]
  },
  {
   "cell_type": "code",
   "execution_count": 19,
   "id": "cba0b235",
   "metadata": {},
   "outputs": [
    {
     "data": {
      "text/plain": [
       "[array([6.05903997, 5.57543686, 1.00219482, 1.33583045, 5.23916814,\n",
       "        0.46215115, 3.32159354, 0.88756559, 1.14192307, 3.46812686]),\n",
       " array([3.1456791 , 2.68636599, 0.15445584, 0.03334096, 3.68231052,\n",
       "        0.36685998, 4.67019724, 5.48909848, 5.61938306, 4.70570479]),\n",
       " array([2.61251655, 5.75910563, 2.55105521, 1.75311296, 6.07216021,\n",
       "        2.27071295, 1.26054044, 3.58092213, 5.81950326, 0.29142152]),\n",
       " array([3.0845083 , 1.07887816, 0.34633866, 0.67140866, 1.41649852,\n",
       "        4.40922027, 2.65172928, 2.9905973 , 2.70719294, 1.60946053]),\n",
       " array([5.30020692, 3.99210125, 6.27693401, 5.70028794, 3.06625369,\n",
       "        4.24865105, 3.91245941, 0.72938156, 0.64590221, 5.76540484])]"
      ]
     },
     "execution_count": 19,
     "metadata": {},
     "output_type": "execute_result"
    }
   ],
   "source": [
    "starting_parameters_qcnn"
   ]
  },
  {
   "cell_type": "code",
   "execution_count": 20,
   "id": "85da168f",
   "metadata": {},
   "outputs": [
    {
     "data": {
      "text/plain": [
       "[array([2.61953889, 0.1150866 , 1.97146294, 0.89774778, 2.85732404,\n",
       "        4.69249801, 0.51917066, 4.49440206, 0.50808102, 1.38580237,\n",
       "        3.7830017 , 1.69215468]),\n",
       " array([2.6525203 , 2.56926264, 6.2242974 , 4.02557554, 3.92638157,\n",
       "        0.86869269, 4.7386404 , 3.86092069, 5.03220403, 1.78986531,\n",
       "        0.49748058, 4.33087197]),\n",
       " array([5.05779682, 3.34772527, 0.18708064, 5.48044974, 6.07013052,\n",
       "        3.26490087, 6.11053371, 3.41262117, 5.41052345, 1.75482737,\n",
       "        6.09471397, 1.14474418]),\n",
       " array([5.89481303, 0.53223955, 2.33462614, 2.38951874, 3.86534505,\n",
       "        1.17784948, 3.34311022, 1.39808155, 5.3687028 , 5.3875664 ,\n",
       "        5.2183748 , 5.56283421]),\n",
       " array([1.14521738, 2.77008346, 3.56159146, 5.04162028, 3.37797036,\n",
       "        0.87136816, 1.08139489, 5.14595742, 3.94704051, 1.70082648,\n",
       "        4.00360284, 5.71032263])]"
      ]
     },
     "execution_count": 20,
     "metadata": {},
     "output_type": "execute_result"
    }
   ],
   "source": [
    "starting_parameters_extension"
   ]
  },
  {
   "cell_type": "code",
   "execution_count": 21,
   "id": "4642d185",
   "metadata": {},
   "outputs": [],
   "source": [
    "def optimization_parameters(starting_parameters, algorithm, training_args):\n",
    "    iteration_nums = []\n",
    "    parameters_records = []\n",
    "    loss_records = []\n",
    "    results = []\n",
    "    \n",
    "    for par in starting_parameters:\n",
    "        iteration_num, parameters_record, loss_record, result = optimization_cobyla(par, algorithm, training_args)\n",
    "        iteration_nums.append(iteration_num)\n",
    "        parameters_records.append(parameters_record)\n",
    "        loss_records.append(loss_record)\n",
    "        results.append(result)  \n",
    "    points = np.array([result.x.tolist() for result in results])\n",
    "    \n",
    "    return np.array(iteration_nums), np.array(parameters_records), np.array(loss_records), np.array(results), points"
   ]
  },
  {
   "cell_type": "code",
   "execution_count": 22,
   "id": "7f49170f",
   "metadata": {},
   "outputs": [
    {
     "data": {
      "text/plain": [
       "[array([3.93943502, 3.36174739, 2.0764446 , 6.24152905, 2.33236744,\n",
       "        1.60299211, 2.98096482, 4.37960995]),\n",
       " array([1.72250042, 5.03107443, 0.02217508, 3.64620082, 3.74198831,\n",
       "        1.13041446, 1.81680117, 3.64032153]),\n",
       " array([0.814574  , 4.2526429 , 2.93724152, 1.34271782, 1.99989192,\n",
       "        2.7192869 , 5.12176354, 3.93230677]),\n",
       " array([1.77832028, 1.87476752, 0.38728052, 6.12082767, 4.58191366,\n",
       "        1.27558256, 2.0466276 , 3.47019868]),\n",
       " array([2.45466964, 2.45307265, 2.82605929, 1.08501898, 0.42523013,\n",
       "        5.93511428, 0.10494403, 2.13140472])]"
      ]
     },
     "execution_count": 22,
     "metadata": {},
     "output_type": "execute_result"
    }
   ],
   "source": [
    "starting_parameters_iris"
   ]
  },
  {
   "cell_type": "code",
   "execution_count": 23,
   "id": "a0d7c4fc",
   "metadata": {},
   "outputs": [
    {
     "name": "stderr",
     "output_type": "stream",
     "text": [
      "C:\\Users\\Accesscode Talker\\AppData\\Local\\Temp\\ipykernel_14012\\1354250236.py:15: VisibleDeprecationWarning: Creating an ndarray from ragged nested sequences (which is a list-or-tuple of lists-or-tuples-or ndarrays with different lengths or shapes) is deprecated. If you meant to do this, you must specify 'dtype=object' when creating the ndarray.\n",
      "  return np.array(iteration_nums), np.array(parameters_records), np.array(loss_records), np.array(results), points\n"
     ]
    }
   ],
   "source": [
    "iteration_nums_iris, parameters_records_iris, loss_records_iris, results_iris, points_iris = optimization_parameters(\n",
    "                                                            starting_parameters_iris, evaluate_batch_iris, training_args)"
   ]
  },
  {
   "cell_type": "code",
   "execution_count": 24,
   "id": "08f10f4c",
   "metadata": {},
   "outputs": [
    {
     "name": "stderr",
     "output_type": "stream",
     "text": [
      "C:\\Users\\Accesscode Talker\\AppData\\Local\\Temp\\ipykernel_14012\\1354250236.py:15: VisibleDeprecationWarning: Creating an ndarray from ragged nested sequences (which is a list-or-tuple of lists-or-tuples-or ndarrays with different lengths or shapes) is deprecated. If you meant to do this, you must specify 'dtype=object' when creating the ndarray.\n",
      "  return np.array(iteration_nums), np.array(parameters_records), np.array(loss_records), np.array(results), points\n"
     ]
    }
   ],
   "source": [
    "iteration_nums_qcnn, parameters_records_qcnn, loss_records_qcnn, results_qcnn, points_qcnn = optimization_parameters(\n",
    "                                                            starting_parameters_qcnn, evaluate_batch_qcnn, training_args)"
   ]
  },
  {
   "cell_type": "code",
   "execution_count": 25,
   "id": "fb169cb5",
   "metadata": {},
   "outputs": [
    {
     "name": "stderr",
     "output_type": "stream",
     "text": [
      "C:\\Users\\Accesscode Talker\\AppData\\Local\\Temp\\ipykernel_14012\\1354250236.py:15: VisibleDeprecationWarning: Creating an ndarray from ragged nested sequences (which is a list-or-tuple of lists-or-tuples-or ndarrays with different lengths or shapes) is deprecated. If you meant to do this, you must specify 'dtype=object' when creating the ndarray.\n",
      "  return np.array(iteration_nums), np.array(parameters_records), np.array(loss_records), np.array(results), points\n"
     ]
    }
   ],
   "source": [
    "iteration_nums_extension, parameters_records_extension, loss_records_extension, results_extension, points_extension = optimization_parameters(\n",
    "                                                            starting_parameters_extension, evaluate_batch_extension, training_args)"
   ]
  },
  {
   "cell_type": "code",
   "execution_count": null,
   "id": "516e5a7a",
   "metadata": {},
   "outputs": [],
   "source": []
  },
  {
   "cell_type": "code",
   "execution_count": 26,
   "id": "7e90d169",
   "metadata": {},
   "outputs": [],
   "source": [
    "def evalutaion_accuracy(testing_args, aalgorithm, point):\n",
    "    backend = Aer.get_backend('qasm_simulator')\n",
    "    confusion = np.zeros((3,3), dtype = int)\n",
    "    for testing_arg in testing_args:\n",
    "        dclass, loss = aalgorithm(angles[testing_arg], point, backend, real_classes[testing_arg])\n",
    "        confusion[dclass, real_classes[testing_arg]] += 1\n",
    "    accuracy = (confusion[0,0] + confusion[1,1] + confusion[2,2]) / np.sum(confusion.flatten())\n",
    "    return accuracy"
   ]
  },
  {
   "cell_type": "code",
   "execution_count": 27,
   "id": "f84ff01e",
   "metadata": {},
   "outputs": [],
   "source": [
    "def evaluation_average_accuracy(num_instances, testing_args, aalgorithm, points):\n",
    "    backend = Aer.get_backend('qasm_simulator')\n",
    "    avg_confusion = np.zeros((3,3), dtype = int)\n",
    "    for i in range(num_instances): \n",
    "        for testing_arg in testing_args:\n",
    "            dclass, loss = aalgorithm(angles[testing_arg], points[i], backend, real_classes[testing_arg])\n",
    "            avg_confusion[dclass, real_classes[testing_arg]] += 1\n",
    "        \n",
    "    avg_confusion = avg_confusion/float(num_instances)\n",
    "    accuracy = (avg_confusion[0,0] + avg_confusion[1,1] + avg_confusion[2,2]) / np.sum(avg_confusion.flatten())\n",
    "    return avg_confusion, accuracy"
   ]
  },
  {
   "cell_type": "code",
   "execution_count": 28,
   "id": "fb17f03c",
   "metadata": {},
   "outputs": [],
   "source": [
    "accuracies_iris = np.array([evalutaion_accuracy(testing_args, iris_evaluate, i) for i in points_iris])\n",
    "accuracies_qcnn = np.array([evalutaion_accuracy(testing_args, qcnn_evaluate, i) for i in points_qcnn])\n",
    "accuracies_iris_extension = np.array([evalutaion_accuracy(testing_args, iris_extension_evaluate, i) for i in points_extension])"
   ]
  },
  {
   "cell_type": "code",
   "execution_count": 29,
   "id": "d2beacf0",
   "metadata": {},
   "outputs": [
    {
     "data": {
      "text/plain": [
       "(array([0.93333333, 0.68333333, 0.85      , 0.8       , 0.91666667]),\n",
       " array([0.81666667, 0.83333333, 0.88333333, 0.91666667, 0.73333333]),\n",
       " array([0.8       , 0.91666667, 0.86666667, 0.68333333, 0.85      ]))"
      ]
     },
     "execution_count": 29,
     "metadata": {},
     "output_type": "execute_result"
    }
   ],
   "source": [
    "accuracies_iris, accuracies_qcnn, accuracies_iris_extension"
   ]
  },
  {
   "cell_type": "code",
   "execution_count": 30,
   "id": "65d56e6f",
   "metadata": {},
   "outputs": [
    {
     "data": {
      "text/plain": [
       "(0.8366666666666667, 0.09030811456096043)"
      ]
     },
     "execution_count": 30,
     "metadata": {},
     "output_type": "execute_result"
    }
   ],
   "source": [
    "accuracies_iris.mean(), accuracies_iris.std()"
   ]
  },
  {
   "cell_type": "code",
   "execution_count": 31,
   "id": "c586f4f0",
   "metadata": {},
   "outputs": [
    {
     "data": {
      "text/plain": [
       "(0.8366666666666666, 0.0627162924074226)"
      ]
     },
     "execution_count": 31,
     "metadata": {},
     "output_type": "execute_result"
    }
   ],
   "source": [
    "accuracies_qcnn.mean(), accuracies_qcnn.std()"
   ]
  },
  {
   "cell_type": "code",
   "execution_count": 32,
   "id": "94228b9f",
   "metadata": {},
   "outputs": [
    {
     "data": {
      "text/plain": [
       "(0.8233333333333333, 0.07930251502246878)"
      ]
     },
     "execution_count": 32,
     "metadata": {},
     "output_type": "execute_result"
    }
   ],
   "source": [
    "accuracies_iris_extension.mean(), accuracies_iris_extension.std()"
   ]
  },
  {
   "cell_type": "code",
   "execution_count": null,
   "id": "2b9f115a",
   "metadata": {},
   "outputs": [],
   "source": []
  },
  {
   "cell_type": "code",
   "execution_count": 33,
   "id": "90f3c6eb",
   "metadata": {},
   "outputs": [],
   "source": [
    "avg_confusion_iris, acc_iris = evaluation_average_accuracy(num_instances, testing_args, iris_evaluate, points_iris)\n",
    "avg_confusion_qcnn, acc_qcnn = evaluation_average_accuracy(num_instances, testing_args, qcnn_evaluate, points_qcnn)\n",
    "avg_confusion_extension, acc_extension = evaluation_average_accuracy(num_instances, testing_args, iris_extension_evaluate, points_extension)"
   ]
  },
  {
   "cell_type": "code",
   "execution_count": 34,
   "id": "cca3b26d",
   "metadata": {},
   "outputs": [
    {
     "name": "stdout",
     "output_type": "stream",
     "text": [
      "Accuracy for iris: 0.83\n",
      "Accuracy for qcnn: 0.8366666666666667\n",
      "Accuracy for iris_extension: 0.82\n"
     ]
    }
   ],
   "source": [
    "print(\"Accuracy for iris: {}\".format(acc_iris))\n",
    "print(\"Accuracy for qcnn: {}\".format(acc_qcnn))\n",
    "print(\"Accuracy for iris_extension: {}\".format(acc_extension))"
   ]
  },
  {
   "cell_type": "code",
   "execution_count": 35,
   "id": "7c8b46fd",
   "metadata": {},
   "outputs": [
    {
     "data": {
      "text/plain": [
       "(array([[ 3.81347039,  2.84635206, -0.02706701,  5.32748434,  1.41490281,\n",
       "          1.78956158,  1.96224761,  6.63368655],\n",
       "        [ 0.32675903,  6.53303422,  0.43395491,  2.69411162,  3.98394007,\n",
       "          2.62907817,  1.3890599 ,  3.02649062],\n",
       "        [ 0.23378165,  4.44817851,  3.42128748,  2.33053378,  3.8001479 ,\n",
       "          2.16240167,  4.03200221,  3.62861139],\n",
       "        [ 2.21501961,  1.19088225, -0.40001374,  6.60109537,  4.02969334,\n",
       "          0.65177425,  3.80822524,  2.79642747],\n",
       "        [ 3.77405212,  1.48912067,  6.20929499,  0.98713735,  1.04318478,\n",
       "          6.1383725 ,  1.4790885 ,  1.34450839]]),\n",
       " array([[18.2,  0. ,  0.6],\n",
       "        [ 0.2, 16.6,  4.4],\n",
       "        [ 1.6,  3.4, 15. ]]))"
      ]
     },
     "execution_count": 35,
     "metadata": {},
     "output_type": "execute_result"
    }
   ],
   "source": [
    "points_iris, avg_confusion_iris"
   ]
  },
  {
   "cell_type": "code",
   "execution_count": 36,
   "id": "fad1c0ea",
   "metadata": {},
   "outputs": [
    {
     "data": {
      "text/plain": [
       "(array([[ 6.27476804,  5.99112316,  2.34235028,  0.97557586,  6.15626675,\n",
       "          2.44023346,  3.74697564,  0.3637932 ,  1.68125565,  3.33521911],\n",
       "        [ 3.0435359 ,  3.55292028,  2.35459257,  1.75081546,  4.19228773,\n",
       "          1.5083907 ,  4.9043333 ,  6.30450631,  5.19156782,  4.56160852],\n",
       "        [ 3.18609399,  6.15428595,  1.32269406,  2.36333922,  7.9354902 ,\n",
       "          4.05311045,  1.06884616,  3.31853313,  4.76749738,  0.33399027],\n",
       "        [ 3.62221079, -0.23637351,  0.28853844,  2.1460986 ,  1.89295796,\n",
       "          4.64388446,  0.96679345,  2.74674313,  4.55487873,  0.53074964],\n",
       "        [ 5.33419031,  5.29559014,  6.66236015,  5.86598482,  2.44504149,\n",
       "          5.41467156,  3.80882508,  0.25874396,  0.66096767,  6.35616428]]),\n",
       " array([[18.8,  0.2,  0.4],\n",
       "        [ 0.8, 17.6,  5.8],\n",
       "        [ 0.4,  2.2, 13.8]]))"
      ]
     },
     "execution_count": 36,
     "metadata": {},
     "output_type": "execute_result"
    }
   ],
   "source": [
    "points_qcnn, avg_confusion_qcnn"
   ]
  },
  {
   "cell_type": "code",
   "execution_count": 37,
   "id": "1e3fa4b7",
   "metadata": {},
   "outputs": [
    {
     "data": {
      "text/plain": [
       "(array([[ 1.49050915, -0.02176393,  1.76238331,  1.98745459,  2.13704583,\n",
       "          5.78686618,  2.65143566,  5.13238282,  0.34468102,  0.25233686,\n",
       "          3.18271024,  0.31717665],\n",
       "        [ 3.98634518,  1.37289251,  6.74518814,  4.51912058,  4.61628098,\n",
       "          3.07463499,  4.97159135,  4.58620344,  4.95661705,  1.19829278,\n",
       "         -1.38239737,  3.81697146],\n",
       "        [ 5.59545903,  4.02767359,  2.78515603,  5.87728893,  6.75596684,\n",
       "          2.9458    ,  7.07290319,  2.57334227,  5.27226238,  1.42966536,\n",
       "          5.16762579,  0.95366798],\n",
       "        [ 6.96000297,  0.71238625,  2.82397126,  2.30758061,  4.92753752,\n",
       "          0.94992408,  3.9569245 ,  1.49727043,  6.34390039,  5.5935536 ,\n",
       "          5.14033584,  5.14152658],\n",
       "        [ 1.08141779,  2.57276949,  5.50313981,  6.62754077,  5.01342681,\n",
       "          0.89011669,  2.31507852,  5.5002192 ,  4.03377741,  1.270616  ,\n",
       "          5.71143188,  4.21722385]]),\n",
       " array([[18.6,  0.4,  0.4],\n",
       "        [ 1.4, 14. ,  3. ],\n",
       "        [ 0. ,  5.6, 16.6]]))"
      ]
     },
     "execution_count": 37,
     "metadata": {},
     "output_type": "execute_result"
    }
   ],
   "source": [
    "points_extension, avg_confusion_extension"
   ]
  },
  {
   "cell_type": "code",
   "execution_count": null,
   "id": "3a34bf15",
   "metadata": {},
   "outputs": [],
   "source": []
  }
 ],
 "metadata": {
  "kernelspec": {
   "display_name": "Python 3 (ipykernel)",
   "language": "python",
   "name": "python3"
  },
  "language_info": {
   "codemirror_mode": {
    "name": "ipython",
    "version": 3
   },
   "file_extension": ".py",
   "mimetype": "text/x-python",
   "name": "python",
   "nbconvert_exporter": "python",
   "pygments_lexer": "ipython3",
   "version": "3.10.4"
  },
  "widgets": {
   "application/vnd.jupyter.widget-state+json": {
    "state": {
     "03c3daec7f5e4bee98bd53edb4d19bec": {
      "model_module": "@jupyter-widgets/controls",
      "model_module_version": "1.5.0",
      "model_name": "HTMLModel",
      "state": {
       "layout": "IPY_MODEL_8c1d09ca3de74f86b8075ccc50df6624",
       "style": "IPY_MODEL_12d7826362d0436ca03dbfeac52d350a",
       "value": "<h5>Job ID</h5>"
      }
     },
     "0e45665653ad447593abf87a3a004ff6": {
      "model_module": "@jupyter-widgets/controls",
      "model_module_version": "1.5.0",
      "model_name": "DescriptionStyleModel",
      "state": {
       "description_width": ""
      }
     },
     "12d7826362d0436ca03dbfeac52d350a": {
      "model_module": "@jupyter-widgets/controls",
      "model_module_version": "1.5.0",
      "model_name": "DescriptionStyleModel",
      "state": {
       "description_width": ""
      }
     },
     "21f4d17314dc42cab674335ece2ea3c6": {
      "model_module": "@jupyter-widgets/controls",
      "model_module_version": "1.5.0",
      "model_name": "HTMLModel",
      "state": {
       "layout": "IPY_MODEL_f67dbd6207fb45a4b30cdbe0a6286e0b",
       "style": "IPY_MODEL_38094d947de04f2d9463b109ae412cd5",
       "value": "<h5>Queue</h5>"
      }
     },
     "2a37b703f35946829ad9571726ba7486": {
      "model_module": "@jupyter-widgets/base",
      "model_module_version": "1.2.0",
      "model_name": "LayoutModel",
      "state": {}
     },
     "38094d947de04f2d9463b109ae412cd5": {
      "model_module": "@jupyter-widgets/controls",
      "model_module_version": "1.5.0",
      "model_name": "DescriptionStyleModel",
      "state": {
       "description_width": ""
      }
     },
     "586e083c93df4d989f9ba17af1cecacb": {
      "model_module": "@jupyter-widgets/base",
      "model_module_version": "1.2.0",
      "model_name": "LayoutModel",
      "state": {
       "margin": "0px 0px 0px 37px",
       "width": "600px"
      }
     },
     "5d037f05fcaf49d0992e3112674e0561": {
      "model_module": "@jupyter-widgets/controls",
      "model_module_version": "1.5.0",
      "model_name": "HTMLModel",
      "state": {
       "layout": "IPY_MODEL_8adab4f1d6034c3794f798dc5ec044ed",
       "style": "IPY_MODEL_d18ccda04657481fb54cfae0cd3a3b29",
       "value": "<p style='font-family: IBM Plex Sans, Arial, Helvetica, sans-serif; font-size: 20px; font-weight: medium;'>Circuit Properties</p>"
      }
     },
     "5de0dbd3b3944d07a862221f94b441a6": {
      "model_module": "@jupyter-widgets/controls",
      "model_module_version": "1.5.0",
      "model_name": "ButtonStyleModel",
      "state": {}
     },
     "6727a6cd56e74894b89fc8325060168a": {
      "model_module": "@jupyter-widgets/base",
      "model_module_version": "1.2.0",
      "model_name": "LayoutModel",
      "state": {
       "width": "95px"
      }
     },
     "6f54ec82a0c941279a26f6e4c3091164": {
      "model_module": "@jupyter-widgets/controls",
      "model_module_version": "1.5.0",
      "model_name": "ButtonModel",
      "state": {
       "button_style": "primary",
       "description": "Clear",
       "layout": "IPY_MODEL_a95c0a73ebbd48dba0e96ea0f7b53177",
       "style": "IPY_MODEL_5de0dbd3b3944d07a862221f94b441a6"
      }
     },
     "8adab4f1d6034c3794f798dc5ec044ed": {
      "model_module": "@jupyter-widgets/base",
      "model_module_version": "1.2.0",
      "model_name": "LayoutModel",
      "state": {
       "margin": "0px 0px 10px 0px"
      }
     },
     "8c1d09ca3de74f86b8075ccc50df6624": {
      "model_module": "@jupyter-widgets/base",
      "model_module_version": "1.2.0",
      "model_name": "LayoutModel",
      "state": {
       "width": "190px"
      }
     },
     "a95c0a73ebbd48dba0e96ea0f7b53177": {
      "model_module": "@jupyter-widgets/base",
      "model_module_version": "1.2.0",
      "model_name": "LayoutModel",
      "state": {
       "grid_area": "right",
       "padding": "0px 0px 0px 0px",
       "width": "70px"
      }
     },
     "a9e345d9b9e94472a3f731c346eed723": {
      "model_module": "@jupyter-widgets/controls",
      "model_module_version": "1.5.0",
      "model_name": "HBoxModel",
      "state": {
       "children": [
        "IPY_MODEL_03c3daec7f5e4bee98bd53edb4d19bec",
        "IPY_MODEL_b91362fc2c764ccc8a94b1d91724bd47",
        "IPY_MODEL_b481470c70fe4b9c9db8a2e8d14ae4ea",
        "IPY_MODEL_21f4d17314dc42cab674335ece2ea3c6",
        "IPY_MODEL_cf58dc48776c49a88bf8d81595ad1d00"
       ],
       "layout": "IPY_MODEL_586e083c93df4d989f9ba17af1cecacb"
      }
     },
     "aa59aead49594a4e92eb067e41982028": {
      "model_module": "@jupyter-widgets/base",
      "model_module_version": "1.2.0",
      "model_name": "LayoutModel",
      "state": {
       "grid_template_areas": "\n                                       \". . . . right \"\n                                        ",
       "grid_template_columns": "20% 20% 20% 20% 20%",
       "width": "100%"
      }
     },
     "b40a9cb4f5ab4de995744b4e95216b15": {
      "model_module": "@jupyter-widgets/controls",
      "model_module_version": "1.5.0",
      "model_name": "GridBoxModel",
      "state": {
       "children": [
        "IPY_MODEL_6f54ec82a0c941279a26f6e4c3091164"
       ],
       "layout": "IPY_MODEL_aa59aead49594a4e92eb067e41982028"
      }
     },
     "b481470c70fe4b9c9db8a2e8d14ae4ea": {
      "model_module": "@jupyter-widgets/controls",
      "model_module_version": "1.5.0",
      "model_name": "HTMLModel",
      "state": {
       "layout": "IPY_MODEL_6727a6cd56e74894b89fc8325060168a",
       "style": "IPY_MODEL_f8e69e5a0825476c8cfa9cefe10fc089",
       "value": "<h5>Status</h5>"
      }
     },
     "b91362fc2c764ccc8a94b1d91724bd47": {
      "model_module": "@jupyter-widgets/controls",
      "model_module_version": "1.5.0",
      "model_name": "HTMLModel",
      "state": {
       "layout": "IPY_MODEL_e3de2100119e410cad401a401bdbb345",
       "style": "IPY_MODEL_cc94387cb01942cbb3e4411de457372a",
       "value": "<h5>Backend</h5>"
      }
     },
     "cc94387cb01942cbb3e4411de457372a": {
      "model_module": "@jupyter-widgets/controls",
      "model_module_version": "1.5.0",
      "model_name": "DescriptionStyleModel",
      "state": {
       "description_width": ""
      }
     },
     "cf58dc48776c49a88bf8d81595ad1d00": {
      "model_module": "@jupyter-widgets/controls",
      "model_module_version": "1.5.0",
      "model_name": "HTMLModel",
      "state": {
       "layout": "IPY_MODEL_2a37b703f35946829ad9571726ba7486",
       "style": "IPY_MODEL_0e45665653ad447593abf87a3a004ff6",
       "value": "<h5>Message</h5>"
      }
     },
     "d18ccda04657481fb54cfae0cd3a3b29": {
      "model_module": "@jupyter-widgets/controls",
      "model_module_version": "1.5.0",
      "model_name": "DescriptionStyleModel",
      "state": {
       "description_width": ""
      }
     },
     "e3de2100119e410cad401a401bdbb345": {
      "model_module": "@jupyter-widgets/base",
      "model_module_version": "1.2.0",
      "model_name": "LayoutModel",
      "state": {
       "width": "145px"
      }
     },
     "f67dbd6207fb45a4b30cdbe0a6286e0b": {
      "model_module": "@jupyter-widgets/base",
      "model_module_version": "1.2.0",
      "model_name": "LayoutModel",
      "state": {
       "width": "70px"
      }
     },
     "f8e69e5a0825476c8cfa9cefe10fc089": {
      "model_module": "@jupyter-widgets/controls",
      "model_module_version": "1.5.0",
      "model_name": "DescriptionStyleModel",
      "state": {
       "description_width": ""
      }
     }
    },
    "version_major": 2,
    "version_minor": 0
   }
  }
 },
 "nbformat": 4,
 "nbformat_minor": 5
}
